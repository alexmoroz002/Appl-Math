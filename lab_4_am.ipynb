{
  "cells": [
    {
      "cell_type": "code",
      "execution_count": 508,
      "metadata": {
        "id": "ZGyZRcqc8OCf"
      },
      "outputs": [],
      "source": [
        "import numpy.linalg as linalg\n",
        "import numpy as np\n",
        "import pandas as pd\n",
        "import plotly.express as px\n",
        "\n",
        "from random import choice"
      ]
    },
    {
      "cell_type": "code",
      "execution_count": 509,
      "metadata": {},
      "outputs": [],
      "source": [
        "epsilon = 0.0001"
      ]
    },
    {
      "attachments": {},
      "cell_type": "markdown",
      "metadata": {
        "id": "aFC31zgYjHiP"
      },
      "source": [
        "### Метод Гаусса"
      ]
    },
    {
      "cell_type": "code",
      "execution_count": 510,
      "metadata": {
        "id": "6nrbvMoSi7HB"
      },
      "outputs": [],
      "source": [
        "def solve_Gauss(A, b, eps):\n",
        "    n = A.shape[0]\n",
        "    A = np.hstack((A, b))\n",
        "    x = np.zeros(n)\n",
        "\n",
        "    for k in range(n):\n",
        "        A[k, :] /= A[k, k]\n",
        "        for i in range(k + 1, n):\n",
        "            A[i, :] -= A[k, :] * A[i, k]\n",
        "\n",
        "    for i in range(0, n)[::-1]:\n",
        "        x[i] = A[i, n] - np.dot(A[i, :-1], x)\n",
        "    return x"
      ]
    },
    {
      "attachments": {},
      "cell_type": "markdown",
      "metadata": {
        "id": "OfywDrFVjIUa"
      },
      "source": [
        "### Метод Гаусса с выбором главного элемента"
      ]
    },
    {
      "cell_type": "code",
      "execution_count": 511,
      "metadata": {
        "id": "EYGnLNmXjBXq"
      },
      "outputs": [],
      "source": [
        "def transform(A, b):\n",
        "    n, m = A.shape\n",
        "    A = np.hstack((A, b))\n",
        "\n",
        "    c = np.array(range(A.shape[1])).reshape((1, A.shape[1]))\n",
        "    A = np.vstack((A, c))\n",
        "\n",
        "    for k in range(n):\n",
        "        for p in range(k, n):\n",
        "            for q in range(k, m):\n",
        "                if abs(A[p, q]) > abs(A[k, k]):\n",
        "                    A[[k, p], :] = A[[p, k], :]\n",
        "                    A[:, [k, q]] =  A[:, [q, k]]\n",
        "\n",
        "    b = A[:-1, -1].reshape((n, 1))\n",
        "    c = A[-1, :-1]\n",
        "    A = A[:-1, :-1]\n",
        "\n",
        "    return A, b, c"
      ]
    },
    {
      "cell_type": "code",
      "execution_count": 512,
      "metadata": {
        "id": "1sPzDxogjOr4"
      },
      "outputs": [],
      "source": [
        "def transform_solver(A, b, eps):\n",
        "    n = A.shape[0]\n",
        "    b = b.reshape(n, 1)\n",
        "    A, b, c = transform(A, b)\n",
        "    \n",
        "    x = np.zeros((n, 1))\n",
        "    unordered_x = solve_Gauss(A.copy(), b.copy(), eps)\n",
        "\n",
        "    for i in range(n):\n",
        "        x[int(c[i])] = unordered_x[i]\n",
        "    x = np.array(x)\n",
        "    return x.ravel()"
      ]
    },
    {
      "attachments": {},
      "cell_type": "markdown",
      "metadata": {
        "id": "fyh4geOh0iwe"
      },
      "source": [
        "### LU-разложение"
      ]
    },
    {
      "cell_type": "code",
      "execution_count": 513,
      "metadata": {
        "id": "fDpwLEHz0l38"
      },
      "outputs": [],
      "source": [
        "def LU(A):\n",
        "    n = A.shape[0]\n",
        "    L = np.zeros(A.shape)\n",
        "    U = np.zeros(A.shape)\n",
        "\n",
        "    # LU-разложение\n",
        "    for i in range(n):\n",
        "        for j in range(i, n):\n",
        "            L[j, i] = A[j, i] - np.dot(L[j, :i], U[:i, i])\n",
        "            U[i, j] = (A[i, j] - np.dot(L[i, :i], U[:i, j])) / L[i, i]\n",
        "\n",
        "    return L, U"
      ]
    },
    {
      "cell_type": "code",
      "execution_count": 514,
      "metadata": {
        "id": "FxpJ8vqj4Wri"
      },
      "outputs": [],
      "source": [
        "def solve_LU(A, b, eps):\n",
        "    b = b.reshape(A.shape[0], 1)\n",
        "    L, U = LU(A.copy())\n",
        "    y = solve_Gauss(L, b.copy(), eps)\n",
        "    y = y.reshape(y.shape[0], 1)\n",
        "    x = solve_Gauss(U, y, eps)\n",
        "    return x"
      ]
    },
    {
      "attachments": {},
      "cell_type": "markdown",
      "metadata": {
        "id": "eVeUdSKH8OCh"
      },
      "source": [
        "\n",
        "### Итерационный метод Гаусса-Зейделя\n"
      ]
    },
    {
      "cell_type": "code",
      "execution_count": 515,
      "metadata": {
        "id": "B3qS3XwP8OCj"
      },
      "outputs": [],
      "source": [
        "def seidel(A, b, eps):\n",
        "    L_inv = linalg.inv(np.tril(A))\n",
        "    U = np.triu(A, 1)\n",
        "    x0 = np.zeros(b.shape[0])\n",
        "\n",
        "    x = x0\n",
        "    while True:\n",
        "        x_new = L_inv @ (b - U @ x)\n",
        "        if np.allclose(x, x_new, eps):\n",
        "            break\n",
        "        x = x_new\n",
        "    return x"
      ]
    },
    {
      "attachments": {},
      "cell_type": "markdown",
      "metadata": {
        "id": "icLC2zOD8OCk"
      },
      "source": [
        "\n",
        "### Генератор матриц с диагональным преобладанием\n"
      ]
    },
    {
      "cell_type": "code",
      "execution_count": 516,
      "metadata": {
        "id": "9Oq482sX8OCk"
      },
      "outputs": [],
      "source": [
        "def gen_matrix(n, k):\n",
        "    a = np.zeros((n, n))\n",
        "    pos_ij = [0, -1, -2, -3, -4]\n",
        "    for i in range(n):\n",
        "        for j in range(n):\n",
        "            if i == j: continue\n",
        "            a[i, j] = choice(pos_ij)\n",
        "        a[i, i] = -np.sum(a[i]) if i > 0 else -np.sum(a[i]) + 10**(-k)\n",
        "    return a"
      ]
    },
    {
      "attachments": {},
      "cell_type": "markdown",
      "metadata": {
        "id": "REHpqB328OCk"
      },
      "source": [
        "\n",
        "### Генератор матриц Гильберта\n"
      ]
    },
    {
      "cell_type": "code",
      "execution_count": 517,
      "metadata": {
        "id": "U4er_KDE8OCl"
      },
      "outputs": [],
      "source": [
        "def gen_hilbert(n):\n",
        "    a = np.zeros((n, n))\n",
        "    for i in range(n):\n",
        "        for j in range(n):\n",
        "            a[i, j] = 1 / (i + j + 1)\n",
        "    return a"
      ]
    },
    {
      "attachments": {},
      "cell_type": "markdown",
      "metadata": {
        "id": "9TWJKb3h8OCl"
      },
      "source": [
        "\n",
        "### Тест\n"
      ]
    },
    {
      "cell_type": "code",
      "execution_count": 518,
      "metadata": {
        "colab": {
          "base_uri": "https://localhost:8080/"
        },
        "id": "9wNOiEYV8OCl",
        "outputId": "fa373b26-9488-436b-bf58-21d1e34f6947"
      },
      "outputs": [
        {
          "name": "stdout",
          "output_type": "stream",
          "text": [
            "CPU times: total: 0 ns\n",
            "Wall time: 1 ms\n",
            "Seidel method: [ 0.9999367  -9.00005908  4.99995569], relative error: 9.40239416995768e-06\n",
            "\n",
            "CPU times: total: 0 ns\n",
            "Wall time: 0 ns\n",
            "Gauss method: [ 1. -9.  5.], relative error: 4.2931724355351243e-17\n",
            "\n",
            "CPU times: total: 0 ns\n",
            "Wall time: 0 ns\n",
            "LU decomposition: [ 1. -9.  5.], relative error: 4.2931724355351243e-17\n",
            "\n"
          ]
        }
      ],
      "source": [
        "A = np.array(np.mat('10 3 -1; 2 5 2; 0 3 -4')).astype(float)\n",
        "b = np.array([-22, -33, -47]).T.astype(float)\n",
        "x_true = [1, -9, 5]\n",
        "\n",
        "methods = [(seidel, 'Seidel method'), (transform_solver, 'Gauss method'), (solve_LU, 'LU decomposition')]\n",
        "\n",
        "for method in methods:\n",
        "    %time x = method[0](A.copy(), b.copy(), epsilon)\n",
        "    print(f'{method[1]}: {x}, relative error: {linalg.norm(x - x_true) / linalg.norm(x_true)}\\n')"
      ]
    },
    {
      "attachments": {},
      "cell_type": "markdown",
      "metadata": {},
      "source": [
        "\n",
        "### Исследование методов на матрицах с задаваемым диагональным преобладанием\n"
      ]
    },
    {
      "cell_type": "code",
      "execution_count": 519,
      "metadata": {},
      "outputs": [],
      "source": [
        "testing_df1 = pd.DataFrame({'method': [], 'k': [], 'condition num': [], 'rel error': []})\n",
        "methods = [(seidel, 'Seidel method'), (transform_solver, 'Gauss method'), (solve_LU, 'LU decomposition')]\n",
        "\n",
        "for k in np.linspace(1e-10, 2, 30):\n",
        "    A_k = gen_matrix(10, k)\n",
        "    F_k = A_k @ np.arange(1, A_k.shape[0] + 1).T\n",
        "\n",
        "    for method in methods:\n",
        "        try:\n",
        "            x = method[0](A_k.copy(), F_k.copy(), epsilon)\n",
        "            testing_df1.loc[len(testing_df1.index)] = [method[1], k, linalg.cond(A_k), linalg.norm(x - np.arange(1, A_k.shape[0] + 1)) / linalg.norm(np.arange(1, A_k.shape[0] + 1))]\n",
        "        except linalg.LinAlgError:\n",
        "            print('Singular!')"
      ]
    },
    {
      "cell_type": "code",
      "execution_count": 520,
      "metadata": {},
      "outputs": [
        {
          "data": {
            "application/vnd.plotly.v1+json": {
              "config": {
                "plotlyServerURL": "https://plot.ly"
              },
              "data": [
                {
                  "hovertemplate": "k=%{x}<br>condition num=%{y}<extra></extra>",
                  "legendgroup": "",
                  "line": {
                    "color": "#636efa",
                    "dash": "solid"
                  },
                  "marker": {
                    "symbol": "circle"
                  },
                  "mode": "markers+lines",
                  "name": "",
                  "orientation": "v",
                  "showlegend": false,
                  "type": "scatter",
                  "x": [
                    1e-10,
                    1e-10,
                    1e-10,
                    0.06896551733793103,
                    0.06896551733793103,
                    0.06896551733793103,
                    0.1379310345758621,
                    0.1379310345758621,
                    0.1379310345758621,
                    0.20689655181379313,
                    0.20689655181379313,
                    0.20689655181379313,
                    0.27586206905172417,
                    0.27586206905172417,
                    0.27586206905172417,
                    0.3448275862896552,
                    0.3448275862896552,
                    0.3448275862896552,
                    0.41379310352758625,
                    0.41379310352758625,
                    0.41379310352758625,
                    0.4827586207655173,
                    0.4827586207655173,
                    0.4827586207655173,
                    0.5517241380034483,
                    0.5517241380034483,
                    0.5517241380034483,
                    0.6206896552413794,
                    0.6206896552413794,
                    0.6206896552413794,
                    0.6896551724793104,
                    0.6896551724793104,
                    0.6896551724793104,
                    0.7586206897172414,
                    0.7586206897172414,
                    0.7586206897172414,
                    0.8275862069551725,
                    0.8275862069551725,
                    0.8275862069551725,
                    0.8965517241931036,
                    0.8965517241931036,
                    0.8965517241931036,
                    0.9655172414310346,
                    0.9655172414310346,
                    0.9655172414310346,
                    1.0344827586689656,
                    1.0344827586689656,
                    1.0344827586689656,
                    1.1034482759068966,
                    1.1034482759068966,
                    1.1034482759068966,
                    1.1724137931448277,
                    1.1724137931448277,
                    1.1724137931448277,
                    1.2413793103827588,
                    1.2413793103827588,
                    1.2413793103827588,
                    1.3103448276206897,
                    1.3103448276206897,
                    1.3103448276206897,
                    1.3793103448586208,
                    1.3793103448586208,
                    1.3793103448586208,
                    1.448275862096552,
                    1.448275862096552,
                    1.448275862096552,
                    1.5172413793344828,
                    1.5172413793344828,
                    1.5172413793344828,
                    1.5862068965724139,
                    1.5862068965724139,
                    1.5862068965724139,
                    1.655172413810345,
                    1.655172413810345,
                    1.655172413810345,
                    1.724137931048276,
                    1.724137931048276,
                    1.724137931048276,
                    1.7931034482862072,
                    1.7931034482862072,
                    1.7931034482862072,
                    1.862068965524138,
                    1.862068965524138,
                    1.862068965524138,
                    1.9310344827620691,
                    1.9310344827620691,
                    1.9310344827620691,
                    2,
                    2,
                    2
                  ],
                  "xaxis": "x",
                  "y": [
                    240.25548277941976,
                    240.25548277941976,
                    240.25548277941976,
                    431.9971143466259,
                    431.9971143466259,
                    431.9971143466259,
                    583.9670624522087,
                    583.9670624522087,
                    583.9670624522087,
                    522.5062010642275,
                    522.5062010642275,
                    522.5062010642275,
                    434.989617874821,
                    434.989617874821,
                    434.989617874821,
                    961.2374484407732,
                    961.2374484407732,
                    961.2374484407732,
                    709.7762467477575,
                    709.7762467477575,
                    709.7762467477575,
                    825.4080216486834,
                    825.4080216486834,
                    825.4080216486834,
                    1001.9364335802103,
                    1001.9364335802103,
                    1001.9364335802103,
                    783.5906623366755,
                    783.5906623366755,
                    783.5906623366755,
                    1495.123831219502,
                    1495.123831219502,
                    1495.123831219502,
                    2420.964092820103,
                    2420.964092820103,
                    2420.964092820103,
                    3928.0464471371633,
                    3928.0464471371633,
                    3928.0464471371633,
                    2151.7824649055233,
                    2151.7824649055233,
                    2151.7824649055233,
                    3925.1653334192,
                    3925.1653334192,
                    3925.1653334192,
                    1955.0194770906094,
                    1955.0194770906094,
                    1955.0194770906094,
                    2439.6134907679734,
                    2439.6134907679734,
                    2439.6134907679734,
                    3885.976164769212,
                    3885.976164769212,
                    3885.976164769212,
                    4706.12759024955,
                    4706.12759024955,
                    4706.12759024955,
                    12018.264515770496,
                    12018.264515770496,
                    12018.264515770496,
                    5609.910740567765,
                    5609.910740567765,
                    5609.910740567765,
                    11758.839402149713,
                    11758.839402149713,
                    11758.839402149713,
                    12772.388722856826,
                    12772.388722856826,
                    12772.388722856826,
                    7103.630373978345,
                    7103.630373978345,
                    7103.630373978345,
                    18817.651332580623,
                    18817.651332580623,
                    18817.651332580623,
                    20799.192639886904,
                    20799.192639886904,
                    20799.192639886904,
                    18722.192870825707,
                    18722.192870825707,
                    18722.192870825707,
                    15020.384149781941,
                    15020.384149781941,
                    15020.384149781941,
                    38531.73795616864,
                    38531.73795616864,
                    38531.73795616864,
                    34796.38449555388,
                    34796.38449555388,
                    34796.38449555388
                  ],
                  "yaxis": "y"
                }
              ],
              "layout": {
                "height": 500,
                "legend": {
                  "tracegroupgap": 0
                },
                "margin": {
                  "b": 15,
                  "l": 75,
                  "r": 20,
                  "t": 50
                },
                "template": {
                  "data": {
                    "bar": [
                      {
                        "error_x": {
                          "color": "#2a3f5f"
                        },
                        "error_y": {
                          "color": "#2a3f5f"
                        },
                        "marker": {
                          "line": {
                            "color": "#E5ECF6",
                            "width": 0.5
                          },
                          "pattern": {
                            "fillmode": "overlay",
                            "size": 10,
                            "solidity": 0.2
                          }
                        },
                        "type": "bar"
                      }
                    ],
                    "barpolar": [
                      {
                        "marker": {
                          "line": {
                            "color": "#E5ECF6",
                            "width": 0.5
                          },
                          "pattern": {
                            "fillmode": "overlay",
                            "size": 10,
                            "solidity": 0.2
                          }
                        },
                        "type": "barpolar"
                      }
                    ],
                    "carpet": [
                      {
                        "aaxis": {
                          "endlinecolor": "#2a3f5f",
                          "gridcolor": "white",
                          "linecolor": "white",
                          "minorgridcolor": "white",
                          "startlinecolor": "#2a3f5f"
                        },
                        "baxis": {
                          "endlinecolor": "#2a3f5f",
                          "gridcolor": "white",
                          "linecolor": "white",
                          "minorgridcolor": "white",
                          "startlinecolor": "#2a3f5f"
                        },
                        "type": "carpet"
                      }
                    ],
                    "choropleth": [
                      {
                        "colorbar": {
                          "outlinewidth": 0,
                          "ticks": ""
                        },
                        "type": "choropleth"
                      }
                    ],
                    "contour": [
                      {
                        "colorbar": {
                          "outlinewidth": 0,
                          "ticks": ""
                        },
                        "colorscale": [
                          [
                            0,
                            "#0d0887"
                          ],
                          [
                            0.1111111111111111,
                            "#46039f"
                          ],
                          [
                            0.2222222222222222,
                            "#7201a8"
                          ],
                          [
                            0.3333333333333333,
                            "#9c179e"
                          ],
                          [
                            0.4444444444444444,
                            "#bd3786"
                          ],
                          [
                            0.5555555555555556,
                            "#d8576b"
                          ],
                          [
                            0.6666666666666666,
                            "#ed7953"
                          ],
                          [
                            0.7777777777777778,
                            "#fb9f3a"
                          ],
                          [
                            0.8888888888888888,
                            "#fdca26"
                          ],
                          [
                            1,
                            "#f0f921"
                          ]
                        ],
                        "type": "contour"
                      }
                    ],
                    "contourcarpet": [
                      {
                        "colorbar": {
                          "outlinewidth": 0,
                          "ticks": ""
                        },
                        "type": "contourcarpet"
                      }
                    ],
                    "heatmap": [
                      {
                        "colorbar": {
                          "outlinewidth": 0,
                          "ticks": ""
                        },
                        "colorscale": [
                          [
                            0,
                            "#0d0887"
                          ],
                          [
                            0.1111111111111111,
                            "#46039f"
                          ],
                          [
                            0.2222222222222222,
                            "#7201a8"
                          ],
                          [
                            0.3333333333333333,
                            "#9c179e"
                          ],
                          [
                            0.4444444444444444,
                            "#bd3786"
                          ],
                          [
                            0.5555555555555556,
                            "#d8576b"
                          ],
                          [
                            0.6666666666666666,
                            "#ed7953"
                          ],
                          [
                            0.7777777777777778,
                            "#fb9f3a"
                          ],
                          [
                            0.8888888888888888,
                            "#fdca26"
                          ],
                          [
                            1,
                            "#f0f921"
                          ]
                        ],
                        "type": "heatmap"
                      }
                    ],
                    "heatmapgl": [
                      {
                        "colorbar": {
                          "outlinewidth": 0,
                          "ticks": ""
                        },
                        "colorscale": [
                          [
                            0,
                            "#0d0887"
                          ],
                          [
                            0.1111111111111111,
                            "#46039f"
                          ],
                          [
                            0.2222222222222222,
                            "#7201a8"
                          ],
                          [
                            0.3333333333333333,
                            "#9c179e"
                          ],
                          [
                            0.4444444444444444,
                            "#bd3786"
                          ],
                          [
                            0.5555555555555556,
                            "#d8576b"
                          ],
                          [
                            0.6666666666666666,
                            "#ed7953"
                          ],
                          [
                            0.7777777777777778,
                            "#fb9f3a"
                          ],
                          [
                            0.8888888888888888,
                            "#fdca26"
                          ],
                          [
                            1,
                            "#f0f921"
                          ]
                        ],
                        "type": "heatmapgl"
                      }
                    ],
                    "histogram": [
                      {
                        "marker": {
                          "pattern": {
                            "fillmode": "overlay",
                            "size": 10,
                            "solidity": 0.2
                          }
                        },
                        "type": "histogram"
                      }
                    ],
                    "histogram2d": [
                      {
                        "colorbar": {
                          "outlinewidth": 0,
                          "ticks": ""
                        },
                        "colorscale": [
                          [
                            0,
                            "#0d0887"
                          ],
                          [
                            0.1111111111111111,
                            "#46039f"
                          ],
                          [
                            0.2222222222222222,
                            "#7201a8"
                          ],
                          [
                            0.3333333333333333,
                            "#9c179e"
                          ],
                          [
                            0.4444444444444444,
                            "#bd3786"
                          ],
                          [
                            0.5555555555555556,
                            "#d8576b"
                          ],
                          [
                            0.6666666666666666,
                            "#ed7953"
                          ],
                          [
                            0.7777777777777778,
                            "#fb9f3a"
                          ],
                          [
                            0.8888888888888888,
                            "#fdca26"
                          ],
                          [
                            1,
                            "#f0f921"
                          ]
                        ],
                        "type": "histogram2d"
                      }
                    ],
                    "histogram2dcontour": [
                      {
                        "colorbar": {
                          "outlinewidth": 0,
                          "ticks": ""
                        },
                        "colorscale": [
                          [
                            0,
                            "#0d0887"
                          ],
                          [
                            0.1111111111111111,
                            "#46039f"
                          ],
                          [
                            0.2222222222222222,
                            "#7201a8"
                          ],
                          [
                            0.3333333333333333,
                            "#9c179e"
                          ],
                          [
                            0.4444444444444444,
                            "#bd3786"
                          ],
                          [
                            0.5555555555555556,
                            "#d8576b"
                          ],
                          [
                            0.6666666666666666,
                            "#ed7953"
                          ],
                          [
                            0.7777777777777778,
                            "#fb9f3a"
                          ],
                          [
                            0.8888888888888888,
                            "#fdca26"
                          ],
                          [
                            1,
                            "#f0f921"
                          ]
                        ],
                        "type": "histogram2dcontour"
                      }
                    ],
                    "mesh3d": [
                      {
                        "colorbar": {
                          "outlinewidth": 0,
                          "ticks": ""
                        },
                        "type": "mesh3d"
                      }
                    ],
                    "parcoords": [
                      {
                        "line": {
                          "colorbar": {
                            "outlinewidth": 0,
                            "ticks": ""
                          }
                        },
                        "type": "parcoords"
                      }
                    ],
                    "pie": [
                      {
                        "automargin": true,
                        "type": "pie"
                      }
                    ],
                    "scatter": [
                      {
                        "fillpattern": {
                          "fillmode": "overlay",
                          "size": 10,
                          "solidity": 0.2
                        },
                        "type": "scatter"
                      }
                    ],
                    "scatter3d": [
                      {
                        "line": {
                          "colorbar": {
                            "outlinewidth": 0,
                            "ticks": ""
                          }
                        },
                        "marker": {
                          "colorbar": {
                            "outlinewidth": 0,
                            "ticks": ""
                          }
                        },
                        "type": "scatter3d"
                      }
                    ],
                    "scattercarpet": [
                      {
                        "marker": {
                          "colorbar": {
                            "outlinewidth": 0,
                            "ticks": ""
                          }
                        },
                        "type": "scattercarpet"
                      }
                    ],
                    "scattergeo": [
                      {
                        "marker": {
                          "colorbar": {
                            "outlinewidth": 0,
                            "ticks": ""
                          }
                        },
                        "type": "scattergeo"
                      }
                    ],
                    "scattergl": [
                      {
                        "marker": {
                          "colorbar": {
                            "outlinewidth": 0,
                            "ticks": ""
                          }
                        },
                        "type": "scattergl"
                      }
                    ],
                    "scattermapbox": [
                      {
                        "marker": {
                          "colorbar": {
                            "outlinewidth": 0,
                            "ticks": ""
                          }
                        },
                        "type": "scattermapbox"
                      }
                    ],
                    "scatterpolar": [
                      {
                        "marker": {
                          "colorbar": {
                            "outlinewidth": 0,
                            "ticks": ""
                          }
                        },
                        "type": "scatterpolar"
                      }
                    ],
                    "scatterpolargl": [
                      {
                        "marker": {
                          "colorbar": {
                            "outlinewidth": 0,
                            "ticks": ""
                          }
                        },
                        "type": "scatterpolargl"
                      }
                    ],
                    "scatterternary": [
                      {
                        "marker": {
                          "colorbar": {
                            "outlinewidth": 0,
                            "ticks": ""
                          }
                        },
                        "type": "scatterternary"
                      }
                    ],
                    "surface": [
                      {
                        "colorbar": {
                          "outlinewidth": 0,
                          "ticks": ""
                        },
                        "colorscale": [
                          [
                            0,
                            "#0d0887"
                          ],
                          [
                            0.1111111111111111,
                            "#46039f"
                          ],
                          [
                            0.2222222222222222,
                            "#7201a8"
                          ],
                          [
                            0.3333333333333333,
                            "#9c179e"
                          ],
                          [
                            0.4444444444444444,
                            "#bd3786"
                          ],
                          [
                            0.5555555555555556,
                            "#d8576b"
                          ],
                          [
                            0.6666666666666666,
                            "#ed7953"
                          ],
                          [
                            0.7777777777777778,
                            "#fb9f3a"
                          ],
                          [
                            0.8888888888888888,
                            "#fdca26"
                          ],
                          [
                            1,
                            "#f0f921"
                          ]
                        ],
                        "type": "surface"
                      }
                    ],
                    "table": [
                      {
                        "cells": {
                          "fill": {
                            "color": "#EBF0F8"
                          },
                          "line": {
                            "color": "white"
                          }
                        },
                        "header": {
                          "fill": {
                            "color": "#C8D4E3"
                          },
                          "line": {
                            "color": "white"
                          }
                        },
                        "type": "table"
                      }
                    ]
                  },
                  "layout": {
                    "annotationdefaults": {
                      "arrowcolor": "#2a3f5f",
                      "arrowhead": 0,
                      "arrowwidth": 1
                    },
                    "autotypenumbers": "strict",
                    "coloraxis": {
                      "colorbar": {
                        "outlinewidth": 0,
                        "ticks": ""
                      }
                    },
                    "colorscale": {
                      "diverging": [
                        [
                          0,
                          "#8e0152"
                        ],
                        [
                          0.1,
                          "#c51b7d"
                        ],
                        [
                          0.2,
                          "#de77ae"
                        ],
                        [
                          0.3,
                          "#f1b6da"
                        ],
                        [
                          0.4,
                          "#fde0ef"
                        ],
                        [
                          0.5,
                          "#f7f7f7"
                        ],
                        [
                          0.6,
                          "#e6f5d0"
                        ],
                        [
                          0.7,
                          "#b8e186"
                        ],
                        [
                          0.8,
                          "#7fbc41"
                        ],
                        [
                          0.9,
                          "#4d9221"
                        ],
                        [
                          1,
                          "#276419"
                        ]
                      ],
                      "sequential": [
                        [
                          0,
                          "#0d0887"
                        ],
                        [
                          0.1111111111111111,
                          "#46039f"
                        ],
                        [
                          0.2222222222222222,
                          "#7201a8"
                        ],
                        [
                          0.3333333333333333,
                          "#9c179e"
                        ],
                        [
                          0.4444444444444444,
                          "#bd3786"
                        ],
                        [
                          0.5555555555555556,
                          "#d8576b"
                        ],
                        [
                          0.6666666666666666,
                          "#ed7953"
                        ],
                        [
                          0.7777777777777778,
                          "#fb9f3a"
                        ],
                        [
                          0.8888888888888888,
                          "#fdca26"
                        ],
                        [
                          1,
                          "#f0f921"
                        ]
                      ],
                      "sequentialminus": [
                        [
                          0,
                          "#0d0887"
                        ],
                        [
                          0.1111111111111111,
                          "#46039f"
                        ],
                        [
                          0.2222222222222222,
                          "#7201a8"
                        ],
                        [
                          0.3333333333333333,
                          "#9c179e"
                        ],
                        [
                          0.4444444444444444,
                          "#bd3786"
                        ],
                        [
                          0.5555555555555556,
                          "#d8576b"
                        ],
                        [
                          0.6666666666666666,
                          "#ed7953"
                        ],
                        [
                          0.7777777777777778,
                          "#fb9f3a"
                        ],
                        [
                          0.8888888888888888,
                          "#fdca26"
                        ],
                        [
                          1,
                          "#f0f921"
                        ]
                      ]
                    },
                    "colorway": [
                      "#636efa",
                      "#EF553B",
                      "#00cc96",
                      "#ab63fa",
                      "#FFA15A",
                      "#19d3f3",
                      "#FF6692",
                      "#B6E880",
                      "#FF97FF",
                      "#FECB52"
                    ],
                    "font": {
                      "color": "#2a3f5f"
                    },
                    "geo": {
                      "bgcolor": "white",
                      "lakecolor": "white",
                      "landcolor": "#E5ECF6",
                      "showlakes": true,
                      "showland": true,
                      "subunitcolor": "white"
                    },
                    "hoverlabel": {
                      "align": "left"
                    },
                    "hovermode": "closest",
                    "mapbox": {
                      "style": "light"
                    },
                    "paper_bgcolor": "white",
                    "plot_bgcolor": "#E5ECF6",
                    "polar": {
                      "angularaxis": {
                        "gridcolor": "white",
                        "linecolor": "white",
                        "ticks": ""
                      },
                      "bgcolor": "#E5ECF6",
                      "radialaxis": {
                        "gridcolor": "white",
                        "linecolor": "white",
                        "ticks": ""
                      }
                    },
                    "scene": {
                      "xaxis": {
                        "backgroundcolor": "#E5ECF6",
                        "gridcolor": "white",
                        "gridwidth": 2,
                        "linecolor": "white",
                        "showbackground": true,
                        "ticks": "",
                        "zerolinecolor": "white"
                      },
                      "yaxis": {
                        "backgroundcolor": "#E5ECF6",
                        "gridcolor": "white",
                        "gridwidth": 2,
                        "linecolor": "white",
                        "showbackground": true,
                        "ticks": "",
                        "zerolinecolor": "white"
                      },
                      "zaxis": {
                        "backgroundcolor": "#E5ECF6",
                        "gridcolor": "white",
                        "gridwidth": 2,
                        "linecolor": "white",
                        "showbackground": true,
                        "ticks": "",
                        "zerolinecolor": "white"
                      }
                    },
                    "shapedefaults": {
                      "line": {
                        "color": "#2a3f5f"
                      }
                    },
                    "ternary": {
                      "aaxis": {
                        "gridcolor": "white",
                        "linecolor": "white",
                        "ticks": ""
                      },
                      "baxis": {
                        "gridcolor": "white",
                        "linecolor": "white",
                        "ticks": ""
                      },
                      "bgcolor": "#E5ECF6",
                      "caxis": {
                        "gridcolor": "white",
                        "linecolor": "white",
                        "ticks": ""
                      }
                    },
                    "title": {
                      "x": 0.05
                    },
                    "xaxis": {
                      "automargin": true,
                      "gridcolor": "white",
                      "linecolor": "white",
                      "ticks": "",
                      "title": {
                        "standoff": 15
                      },
                      "zerolinecolor": "white",
                      "zerolinewidth": 2
                    },
                    "yaxis": {
                      "automargin": true,
                      "gridcolor": "white",
                      "linecolor": "white",
                      "ticks": "",
                      "title": {
                        "standoff": 15
                      },
                      "zerolinecolor": "white",
                      "zerolinewidth": 2
                    }
                  }
                },
                "title": {
                  "text": "cond(k)"
                },
                "width": 1000,
                "xaxis": {
                  "anchor": "y",
                  "domain": [
                    0,
                    1
                  ],
                  "title": {
                    "text": "k"
                  }
                },
                "yaxis": {
                  "anchor": "x",
                  "domain": [
                    0,
                    1
                  ],
                  "title": {
                    "text": "condition num"
                  }
                }
              }
            }
          },
          "metadata": {},
          "output_type": "display_data"
        }
      ],
      "source": [
        "fig = px.line(testing_df1, x='k', y='condition num', markers='o', title='cond(k)', height=500, width=1000)\n",
        "fig.update_layout(margin=dict(l=75, r=20, t=50, b=15))"
      ]
    },
    {
      "cell_type": "code",
      "execution_count": 521,
      "metadata": {},
      "outputs": [
        {
          "data": {
            "application/vnd.plotly.v1+json": {
              "config": {
                "plotlyServerURL": "https://plot.ly"
              },
              "data": [
                {
                  "hovertemplate": "method=Seidel method<br>k=%{x}<br>rel error=%{y}<extra></extra>",
                  "legendgroup": "Seidel method",
                  "line": {
                    "color": "#636efa",
                    "dash": "solid"
                  },
                  "marker": {
                    "symbol": "circle"
                  },
                  "mode": "markers+lines",
                  "name": "Seidel method",
                  "orientation": "v",
                  "showlegend": true,
                  "type": "scatter",
                  "x": [
                    1e-10,
                    0.06896551733793103,
                    0.1379310345758621,
                    0.20689655181379313,
                    0.27586206905172417,
                    0.3448275862896552,
                    0.41379310352758625,
                    0.4827586207655173,
                    0.5517241380034483,
                    0.6206896552413794,
                    0.6896551724793104,
                    0.7586206897172414,
                    0.8275862069551725,
                    0.8965517241931036,
                    0.9655172414310346,
                    1.0344827586689656,
                    1.1034482759068966,
                    1.1724137931448277,
                    1.2413793103827588,
                    1.3103448276206897,
                    1.3793103448586208,
                    1.448275862096552,
                    1.5172413793344828,
                    1.5862068965724139,
                    1.655172413810345,
                    1.724137931048276,
                    1.7931034482862072,
                    1.862068965524138,
                    1.9310344827620691,
                    2
                  ],
                  "xaxis": "x",
                  "y": [
                    0.0013109880509696906,
                    0.002203909210007497,
                    0.002690166712370273,
                    0.0025086842167761285,
                    0.0018167824776885975,
                    0.003782916056092885,
                    0.00337413279761403,
                    0.004388755117468093,
                    0.004479575478272395,
                    0.0027336335308441725,
                    0.005932260646948302,
                    0.009157243156632121,
                    0.01349360224994794,
                    0.009728100358552884,
                    0.013801888161358517,
                    0.00818553649454382,
                    0.011147646290413695,
                    0.016681513219251036,
                    0.0235275605140844,
                    0.04013360709067932,
                    0.024849467769677676,
                    0.0457453865080337,
                    0.03742299277087582,
                    0.025492540980163417,
                    0.05662775855307348,
                    0.05404802083741005,
                    0.05278893891472021,
                    0.052813399204715304,
                    0.09020829257384985,
                    0.09019149311458276
                  ],
                  "yaxis": "y"
                },
                {
                  "hovertemplate": "method=Gauss method<br>k=%{x}<br>rel error=%{y}<extra></extra>",
                  "legendgroup": "Gauss method",
                  "line": {
                    "color": "#EF553B",
                    "dash": "solid"
                  },
                  "marker": {
                    "symbol": "circle"
                  },
                  "mode": "markers+lines",
                  "name": "Gauss method",
                  "orientation": "v",
                  "showlegend": true,
                  "type": "scatter",
                  "x": [
                    1e-10,
                    0.06896551733793103,
                    0.1379310345758621,
                    0.20689655181379313,
                    0.27586206905172417,
                    0.3448275862896552,
                    0.41379310352758625,
                    0.4827586207655173,
                    0.5517241380034483,
                    0.6206896552413794,
                    0.6896551724793104,
                    0.7586206897172414,
                    0.8275862069551725,
                    0.8965517241931036,
                    0.9655172414310346,
                    1.0344827586689656,
                    1.1034482759068966,
                    1.1724137931448277,
                    1.2413793103827588,
                    1.3103448276206897,
                    1.3793103448586208,
                    1.448275862096552,
                    1.5172413793344828,
                    1.5862068965724139,
                    1.655172413810345,
                    1.724137931048276,
                    1.7931034482862072,
                    1.862068965524138,
                    1.9310344827620691,
                    2
                  ],
                  "xaxis": "x",
                  "y": [
                    4.797850665894258e-15,
                    1.346367347050234e-14,
                    6.958203373113647e-15,
                    6.414415868029399e-15,
                    8.355825801966621e-15,
                    1.7528432764036621e-15,
                    8.053013449920523e-15,
                    1.752130070688015e-14,
                    1.7471544000135794e-14,
                    2.3275737568550003e-14,
                    2.308217759845876e-14,
                    2.5744452935373567e-14,
                    2.4012378376445974e-14,
                    2.6052324827469302e-14,
                    7.450619578433043e-15,
                    2.9408434161173004e-15,
                    7.391917231353891e-14,
                    9.167597077034264e-14,
                    8.106910302705908e-14,
                    6.14662962449716e-13,
                    8.66301810371391e-14,
                    8.036782739856716e-14,
                    1.1535902395584878e-13,
                    1.3336986593962738e-13,
                    2.958785140569898e-14,
                    2.413461227423269e-13,
                    6.714154373742434e-13,
                    3.344391820891651e-13,
                    6.224856434039922e-13,
                    4.621583849744878e-13
                  ],
                  "yaxis": "y"
                },
                {
                  "hovertemplate": "method=LU decomposition<br>k=%{x}<br>rel error=%{y}<extra></extra>",
                  "legendgroup": "LU decomposition",
                  "line": {
                    "color": "#00cc96",
                    "dash": "solid"
                  },
                  "marker": {
                    "symbol": "circle"
                  },
                  "mode": "markers+lines",
                  "name": "LU decomposition",
                  "orientation": "v",
                  "showlegend": true,
                  "type": "scatter",
                  "x": [
                    1e-10,
                    0.06896551733793103,
                    0.1379310345758621,
                    0.20689655181379313,
                    0.27586206905172417,
                    0.3448275862896552,
                    0.41379310352758625,
                    0.4827586207655173,
                    0.5517241380034483,
                    0.6206896552413794,
                    0.6896551724793104,
                    0.7586206897172414,
                    0.8275862069551725,
                    0.8965517241931036,
                    0.9655172414310346,
                    1.0344827586689656,
                    1.1034482759068966,
                    1.1724137931448277,
                    1.2413793103827588,
                    1.3103448276206897,
                    1.3793103448586208,
                    1.448275862096552,
                    1.5172413793344828,
                    1.5862068965724139,
                    1.655172413810345,
                    1.724137931048276,
                    1.7931034482862072,
                    1.862068965524138,
                    1.9310344827620691,
                    2
                  ],
                  "xaxis": "x",
                  "y": [
                    5.676703971344493e-15,
                    4.197774235497857e-16,
                    2.1507192958880114e-15,
                    1.6986727972594737e-15,
                    1.3470425053664129e-14,
                    8.668157372414114e-15,
                    4.911491808488464e-15,
                    1.729750478851868e-15,
                    2.528002734763612e-14,
                    1.2160514941883477e-14,
                    2.2717506424160447e-14,
                    5.784438602746063e-14,
                    8.690242697587965e-14,
                    2.1805228317195583e-15,
                    9.063108282191493e-14,
                    2.170869765251699e-16,
                    4.4560609640128375e-14,
                    1.0607169979695735e-14,
                    6.954602901253859e-14,
                    5.229083023386474e-13,
                    4.285714124824313e-14,
                    1.2187914473827668e-13,
                    1.2495668184214839e-13,
                    1.4172586284257276e-13,
                    2.94351950835751e-13,
                    1.4083839537085818e-13,
                    1.1086422335292425e-13,
                    2.1175135090690767e-13,
                    1.370378981857665e-13,
                    8.099028061235553e-14
                  ],
                  "yaxis": "y"
                }
              ],
              "layout": {
                "height": 500,
                "legend": {
                  "title": {
                    "text": "method"
                  },
                  "tracegroupgap": 0,
                  "x": 0.005,
                  "y": 0.99
                },
                "margin": {
                  "b": 15,
                  "l": 75,
                  "r": 20,
                  "t": 50
                },
                "template": {
                  "data": {
                    "bar": [
                      {
                        "error_x": {
                          "color": "#2a3f5f"
                        },
                        "error_y": {
                          "color": "#2a3f5f"
                        },
                        "marker": {
                          "line": {
                            "color": "#E5ECF6",
                            "width": 0.5
                          },
                          "pattern": {
                            "fillmode": "overlay",
                            "size": 10,
                            "solidity": 0.2
                          }
                        },
                        "type": "bar"
                      }
                    ],
                    "barpolar": [
                      {
                        "marker": {
                          "line": {
                            "color": "#E5ECF6",
                            "width": 0.5
                          },
                          "pattern": {
                            "fillmode": "overlay",
                            "size": 10,
                            "solidity": 0.2
                          }
                        },
                        "type": "barpolar"
                      }
                    ],
                    "carpet": [
                      {
                        "aaxis": {
                          "endlinecolor": "#2a3f5f",
                          "gridcolor": "white",
                          "linecolor": "white",
                          "minorgridcolor": "white",
                          "startlinecolor": "#2a3f5f"
                        },
                        "baxis": {
                          "endlinecolor": "#2a3f5f",
                          "gridcolor": "white",
                          "linecolor": "white",
                          "minorgridcolor": "white",
                          "startlinecolor": "#2a3f5f"
                        },
                        "type": "carpet"
                      }
                    ],
                    "choropleth": [
                      {
                        "colorbar": {
                          "outlinewidth": 0,
                          "ticks": ""
                        },
                        "type": "choropleth"
                      }
                    ],
                    "contour": [
                      {
                        "colorbar": {
                          "outlinewidth": 0,
                          "ticks": ""
                        },
                        "colorscale": [
                          [
                            0,
                            "#0d0887"
                          ],
                          [
                            0.1111111111111111,
                            "#46039f"
                          ],
                          [
                            0.2222222222222222,
                            "#7201a8"
                          ],
                          [
                            0.3333333333333333,
                            "#9c179e"
                          ],
                          [
                            0.4444444444444444,
                            "#bd3786"
                          ],
                          [
                            0.5555555555555556,
                            "#d8576b"
                          ],
                          [
                            0.6666666666666666,
                            "#ed7953"
                          ],
                          [
                            0.7777777777777778,
                            "#fb9f3a"
                          ],
                          [
                            0.8888888888888888,
                            "#fdca26"
                          ],
                          [
                            1,
                            "#f0f921"
                          ]
                        ],
                        "type": "contour"
                      }
                    ],
                    "contourcarpet": [
                      {
                        "colorbar": {
                          "outlinewidth": 0,
                          "ticks": ""
                        },
                        "type": "contourcarpet"
                      }
                    ],
                    "heatmap": [
                      {
                        "colorbar": {
                          "outlinewidth": 0,
                          "ticks": ""
                        },
                        "colorscale": [
                          [
                            0,
                            "#0d0887"
                          ],
                          [
                            0.1111111111111111,
                            "#46039f"
                          ],
                          [
                            0.2222222222222222,
                            "#7201a8"
                          ],
                          [
                            0.3333333333333333,
                            "#9c179e"
                          ],
                          [
                            0.4444444444444444,
                            "#bd3786"
                          ],
                          [
                            0.5555555555555556,
                            "#d8576b"
                          ],
                          [
                            0.6666666666666666,
                            "#ed7953"
                          ],
                          [
                            0.7777777777777778,
                            "#fb9f3a"
                          ],
                          [
                            0.8888888888888888,
                            "#fdca26"
                          ],
                          [
                            1,
                            "#f0f921"
                          ]
                        ],
                        "type": "heatmap"
                      }
                    ],
                    "heatmapgl": [
                      {
                        "colorbar": {
                          "outlinewidth": 0,
                          "ticks": ""
                        },
                        "colorscale": [
                          [
                            0,
                            "#0d0887"
                          ],
                          [
                            0.1111111111111111,
                            "#46039f"
                          ],
                          [
                            0.2222222222222222,
                            "#7201a8"
                          ],
                          [
                            0.3333333333333333,
                            "#9c179e"
                          ],
                          [
                            0.4444444444444444,
                            "#bd3786"
                          ],
                          [
                            0.5555555555555556,
                            "#d8576b"
                          ],
                          [
                            0.6666666666666666,
                            "#ed7953"
                          ],
                          [
                            0.7777777777777778,
                            "#fb9f3a"
                          ],
                          [
                            0.8888888888888888,
                            "#fdca26"
                          ],
                          [
                            1,
                            "#f0f921"
                          ]
                        ],
                        "type": "heatmapgl"
                      }
                    ],
                    "histogram": [
                      {
                        "marker": {
                          "pattern": {
                            "fillmode": "overlay",
                            "size": 10,
                            "solidity": 0.2
                          }
                        },
                        "type": "histogram"
                      }
                    ],
                    "histogram2d": [
                      {
                        "colorbar": {
                          "outlinewidth": 0,
                          "ticks": ""
                        },
                        "colorscale": [
                          [
                            0,
                            "#0d0887"
                          ],
                          [
                            0.1111111111111111,
                            "#46039f"
                          ],
                          [
                            0.2222222222222222,
                            "#7201a8"
                          ],
                          [
                            0.3333333333333333,
                            "#9c179e"
                          ],
                          [
                            0.4444444444444444,
                            "#bd3786"
                          ],
                          [
                            0.5555555555555556,
                            "#d8576b"
                          ],
                          [
                            0.6666666666666666,
                            "#ed7953"
                          ],
                          [
                            0.7777777777777778,
                            "#fb9f3a"
                          ],
                          [
                            0.8888888888888888,
                            "#fdca26"
                          ],
                          [
                            1,
                            "#f0f921"
                          ]
                        ],
                        "type": "histogram2d"
                      }
                    ],
                    "histogram2dcontour": [
                      {
                        "colorbar": {
                          "outlinewidth": 0,
                          "ticks": ""
                        },
                        "colorscale": [
                          [
                            0,
                            "#0d0887"
                          ],
                          [
                            0.1111111111111111,
                            "#46039f"
                          ],
                          [
                            0.2222222222222222,
                            "#7201a8"
                          ],
                          [
                            0.3333333333333333,
                            "#9c179e"
                          ],
                          [
                            0.4444444444444444,
                            "#bd3786"
                          ],
                          [
                            0.5555555555555556,
                            "#d8576b"
                          ],
                          [
                            0.6666666666666666,
                            "#ed7953"
                          ],
                          [
                            0.7777777777777778,
                            "#fb9f3a"
                          ],
                          [
                            0.8888888888888888,
                            "#fdca26"
                          ],
                          [
                            1,
                            "#f0f921"
                          ]
                        ],
                        "type": "histogram2dcontour"
                      }
                    ],
                    "mesh3d": [
                      {
                        "colorbar": {
                          "outlinewidth": 0,
                          "ticks": ""
                        },
                        "type": "mesh3d"
                      }
                    ],
                    "parcoords": [
                      {
                        "line": {
                          "colorbar": {
                            "outlinewidth": 0,
                            "ticks": ""
                          }
                        },
                        "type": "parcoords"
                      }
                    ],
                    "pie": [
                      {
                        "automargin": true,
                        "type": "pie"
                      }
                    ],
                    "scatter": [
                      {
                        "fillpattern": {
                          "fillmode": "overlay",
                          "size": 10,
                          "solidity": 0.2
                        },
                        "type": "scatter"
                      }
                    ],
                    "scatter3d": [
                      {
                        "line": {
                          "colorbar": {
                            "outlinewidth": 0,
                            "ticks": ""
                          }
                        },
                        "marker": {
                          "colorbar": {
                            "outlinewidth": 0,
                            "ticks": ""
                          }
                        },
                        "type": "scatter3d"
                      }
                    ],
                    "scattercarpet": [
                      {
                        "marker": {
                          "colorbar": {
                            "outlinewidth": 0,
                            "ticks": ""
                          }
                        },
                        "type": "scattercarpet"
                      }
                    ],
                    "scattergeo": [
                      {
                        "marker": {
                          "colorbar": {
                            "outlinewidth": 0,
                            "ticks": ""
                          }
                        },
                        "type": "scattergeo"
                      }
                    ],
                    "scattergl": [
                      {
                        "marker": {
                          "colorbar": {
                            "outlinewidth": 0,
                            "ticks": ""
                          }
                        },
                        "type": "scattergl"
                      }
                    ],
                    "scattermapbox": [
                      {
                        "marker": {
                          "colorbar": {
                            "outlinewidth": 0,
                            "ticks": ""
                          }
                        },
                        "type": "scattermapbox"
                      }
                    ],
                    "scatterpolar": [
                      {
                        "marker": {
                          "colorbar": {
                            "outlinewidth": 0,
                            "ticks": ""
                          }
                        },
                        "type": "scatterpolar"
                      }
                    ],
                    "scatterpolargl": [
                      {
                        "marker": {
                          "colorbar": {
                            "outlinewidth": 0,
                            "ticks": ""
                          }
                        },
                        "type": "scatterpolargl"
                      }
                    ],
                    "scatterternary": [
                      {
                        "marker": {
                          "colorbar": {
                            "outlinewidth": 0,
                            "ticks": ""
                          }
                        },
                        "type": "scatterternary"
                      }
                    ],
                    "surface": [
                      {
                        "colorbar": {
                          "outlinewidth": 0,
                          "ticks": ""
                        },
                        "colorscale": [
                          [
                            0,
                            "#0d0887"
                          ],
                          [
                            0.1111111111111111,
                            "#46039f"
                          ],
                          [
                            0.2222222222222222,
                            "#7201a8"
                          ],
                          [
                            0.3333333333333333,
                            "#9c179e"
                          ],
                          [
                            0.4444444444444444,
                            "#bd3786"
                          ],
                          [
                            0.5555555555555556,
                            "#d8576b"
                          ],
                          [
                            0.6666666666666666,
                            "#ed7953"
                          ],
                          [
                            0.7777777777777778,
                            "#fb9f3a"
                          ],
                          [
                            0.8888888888888888,
                            "#fdca26"
                          ],
                          [
                            1,
                            "#f0f921"
                          ]
                        ],
                        "type": "surface"
                      }
                    ],
                    "table": [
                      {
                        "cells": {
                          "fill": {
                            "color": "#EBF0F8"
                          },
                          "line": {
                            "color": "white"
                          }
                        },
                        "header": {
                          "fill": {
                            "color": "#C8D4E3"
                          },
                          "line": {
                            "color": "white"
                          }
                        },
                        "type": "table"
                      }
                    ]
                  },
                  "layout": {
                    "annotationdefaults": {
                      "arrowcolor": "#2a3f5f",
                      "arrowhead": 0,
                      "arrowwidth": 1
                    },
                    "autotypenumbers": "strict",
                    "coloraxis": {
                      "colorbar": {
                        "outlinewidth": 0,
                        "ticks": ""
                      }
                    },
                    "colorscale": {
                      "diverging": [
                        [
                          0,
                          "#8e0152"
                        ],
                        [
                          0.1,
                          "#c51b7d"
                        ],
                        [
                          0.2,
                          "#de77ae"
                        ],
                        [
                          0.3,
                          "#f1b6da"
                        ],
                        [
                          0.4,
                          "#fde0ef"
                        ],
                        [
                          0.5,
                          "#f7f7f7"
                        ],
                        [
                          0.6,
                          "#e6f5d0"
                        ],
                        [
                          0.7,
                          "#b8e186"
                        ],
                        [
                          0.8,
                          "#7fbc41"
                        ],
                        [
                          0.9,
                          "#4d9221"
                        ],
                        [
                          1,
                          "#276419"
                        ]
                      ],
                      "sequential": [
                        [
                          0,
                          "#0d0887"
                        ],
                        [
                          0.1111111111111111,
                          "#46039f"
                        ],
                        [
                          0.2222222222222222,
                          "#7201a8"
                        ],
                        [
                          0.3333333333333333,
                          "#9c179e"
                        ],
                        [
                          0.4444444444444444,
                          "#bd3786"
                        ],
                        [
                          0.5555555555555556,
                          "#d8576b"
                        ],
                        [
                          0.6666666666666666,
                          "#ed7953"
                        ],
                        [
                          0.7777777777777778,
                          "#fb9f3a"
                        ],
                        [
                          0.8888888888888888,
                          "#fdca26"
                        ],
                        [
                          1,
                          "#f0f921"
                        ]
                      ],
                      "sequentialminus": [
                        [
                          0,
                          "#0d0887"
                        ],
                        [
                          0.1111111111111111,
                          "#46039f"
                        ],
                        [
                          0.2222222222222222,
                          "#7201a8"
                        ],
                        [
                          0.3333333333333333,
                          "#9c179e"
                        ],
                        [
                          0.4444444444444444,
                          "#bd3786"
                        ],
                        [
                          0.5555555555555556,
                          "#d8576b"
                        ],
                        [
                          0.6666666666666666,
                          "#ed7953"
                        ],
                        [
                          0.7777777777777778,
                          "#fb9f3a"
                        ],
                        [
                          0.8888888888888888,
                          "#fdca26"
                        ],
                        [
                          1,
                          "#f0f921"
                        ]
                      ]
                    },
                    "colorway": [
                      "#636efa",
                      "#EF553B",
                      "#00cc96",
                      "#ab63fa",
                      "#FFA15A",
                      "#19d3f3",
                      "#FF6692",
                      "#B6E880",
                      "#FF97FF",
                      "#FECB52"
                    ],
                    "font": {
                      "color": "#2a3f5f"
                    },
                    "geo": {
                      "bgcolor": "white",
                      "lakecolor": "white",
                      "landcolor": "#E5ECF6",
                      "showlakes": true,
                      "showland": true,
                      "subunitcolor": "white"
                    },
                    "hoverlabel": {
                      "align": "left"
                    },
                    "hovermode": "closest",
                    "mapbox": {
                      "style": "light"
                    },
                    "paper_bgcolor": "white",
                    "plot_bgcolor": "#E5ECF6",
                    "polar": {
                      "angularaxis": {
                        "gridcolor": "white",
                        "linecolor": "white",
                        "ticks": ""
                      },
                      "bgcolor": "#E5ECF6",
                      "radialaxis": {
                        "gridcolor": "white",
                        "linecolor": "white",
                        "ticks": ""
                      }
                    },
                    "scene": {
                      "xaxis": {
                        "backgroundcolor": "#E5ECF6",
                        "gridcolor": "white",
                        "gridwidth": 2,
                        "linecolor": "white",
                        "showbackground": true,
                        "ticks": "",
                        "zerolinecolor": "white"
                      },
                      "yaxis": {
                        "backgroundcolor": "#E5ECF6",
                        "gridcolor": "white",
                        "gridwidth": 2,
                        "linecolor": "white",
                        "showbackground": true,
                        "ticks": "",
                        "zerolinecolor": "white"
                      },
                      "zaxis": {
                        "backgroundcolor": "#E5ECF6",
                        "gridcolor": "white",
                        "gridwidth": 2,
                        "linecolor": "white",
                        "showbackground": true,
                        "ticks": "",
                        "zerolinecolor": "white"
                      }
                    },
                    "shapedefaults": {
                      "line": {
                        "color": "#2a3f5f"
                      }
                    },
                    "ternary": {
                      "aaxis": {
                        "gridcolor": "white",
                        "linecolor": "white",
                        "ticks": ""
                      },
                      "baxis": {
                        "gridcolor": "white",
                        "linecolor": "white",
                        "ticks": ""
                      },
                      "bgcolor": "#E5ECF6",
                      "caxis": {
                        "gridcolor": "white",
                        "linecolor": "white",
                        "ticks": ""
                      }
                    },
                    "title": {
                      "x": 0.05
                    },
                    "xaxis": {
                      "automargin": true,
                      "gridcolor": "white",
                      "linecolor": "white",
                      "ticks": "",
                      "title": {
                        "standoff": 15
                      },
                      "zerolinecolor": "white",
                      "zerolinewidth": 2
                    },
                    "yaxis": {
                      "automargin": true,
                      "gridcolor": "white",
                      "linecolor": "white",
                      "ticks": "",
                      "title": {
                        "standoff": 15
                      },
                      "zerolinecolor": "white",
                      "zerolinewidth": 2
                    }
                  }
                },
                "title": {
                  "text": "err(k)"
                },
                "width": 1000,
                "xaxis": {
                  "anchor": "y",
                  "domain": [
                    0,
                    1
                  ],
                  "title": {
                    "text": "k"
                  }
                },
                "yaxis": {
                  "anchor": "x",
                  "domain": [
                    0,
                    1
                  ],
                  "title": {
                    "text": "rel error"
                  }
                }
              }
            }
          },
          "metadata": {},
          "output_type": "display_data"
        }
      ],
      "source": [
        "fig = px.line(testing_df1, x='k', y='rel error', color='method', markers='o', title='err(k)', height=500, width=1000)\n",
        "fig.update_layout(legend=dict(x=0.005, y=0.99),\n",
        "                  margin=dict(l=75, r=20, t=50, b=15))"
      ]
    },
    {
      "attachments": {},
      "cell_type": "markdown",
      "metadata": {},
      "source": [
        "\n",
        "### Исследование методов на матрицах Гильберта\n"
      ]
    },
    {
      "cell_type": "code",
      "execution_count": 522,
      "metadata": {},
      "outputs": [
        {
          "name": "stderr",
          "output_type": "stream",
          "text": [
            "C:\\Users\\moroz\\AppData\\Local\\Temp\\ipykernel_31848\\666460282.py:10: RuntimeWarning:\n",
            "\n",
            "invalid value encountered in scalar divide\n",
            "\n",
            "C:\\Users\\moroz\\AppData\\Local\\Temp\\ipykernel_31848\\666460282.py:10: RuntimeWarning:\n",
            "\n",
            "divide by zero encountered in scalar divide\n",
            "\n",
            "C:\\Users\\moroz\\AppData\\Local\\Temp\\ipykernel_31848\\495086872.py:7: RuntimeWarning:\n",
            "\n",
            "divide by zero encountered in divide\n",
            "\n",
            "C:\\Users\\moroz\\AppData\\Local\\Temp\\ipykernel_31848\\495086872.py:7: RuntimeWarning:\n",
            "\n",
            "invalid value encountered in divide\n",
            "\n",
            "C:\\Users\\moroz\\AppData\\Local\\Temp\\ipykernel_31848\\666460282.py:10: RuntimeWarning:\n",
            "\n",
            "invalid value encountered in scalar divide\n",
            "\n",
            "C:\\Users\\moroz\\AppData\\Local\\Temp\\ipykernel_31848\\666460282.py:10: RuntimeWarning:\n",
            "\n",
            "divide by zero encountered in scalar divide\n",
            "\n",
            "C:\\Users\\moroz\\AppData\\Local\\Temp\\ipykernel_31848\\495086872.py:7: RuntimeWarning:\n",
            "\n",
            "divide by zero encountered in divide\n",
            "\n",
            "C:\\Users\\moroz\\AppData\\Local\\Temp\\ipykernel_31848\\495086872.py:7: RuntimeWarning:\n",
            "\n",
            "invalid value encountered in divide\n",
            "\n",
            "C:\\Users\\moroz\\AppData\\Local\\Temp\\ipykernel_31848\\666460282.py:10: RuntimeWarning:\n",
            "\n",
            "invalid value encountered in scalar divide\n",
            "\n",
            "C:\\Users\\moroz\\AppData\\Local\\Temp\\ipykernel_31848\\666460282.py:10: RuntimeWarning:\n",
            "\n",
            "divide by zero encountered in scalar divide\n",
            "\n",
            "C:\\Users\\moroz\\AppData\\Local\\Temp\\ipykernel_31848\\495086872.py:7: RuntimeWarning:\n",
            "\n",
            "divide by zero encountered in divide\n",
            "\n",
            "C:\\Users\\moroz\\AppData\\Local\\Temp\\ipykernel_31848\\495086872.py:7: RuntimeWarning:\n",
            "\n",
            "invalid value encountered in divide\n",
            "\n"
          ]
        }
      ],
      "source": [
        "testing_df2 = pd.DataFrame({'method': [], 'size': [], 'condition num': [], 'rel error': []})\n",
        "methods = [(seidel, 'Seidel method'), (transform_solver, 'Gauss method'), (solve_LU, 'LU decomposition')]\n",
        "\n",
        "for size in np.arange(2, 203, 20):\n",
        "    A_k = gen_hilbert(size)\n",
        "    F_k = A_k @ np.arange(1, A_k.shape[0] + 1).T\n",
        "\n",
        "    for method in methods:\n",
        "        try:\n",
        "            x = method[0](A_k.copy(), F_k.copy(), epsilon)\n",
        "            testing_df2.loc[len(testing_df2.index)] = [method[1], size, linalg.cond(A_k), linalg.norm(x - np.arange(1, A_k.shape[0] + 1)) / linalg.norm(np.arange(1, A_k.shape[0] + 1))]\n",
        "        except linalg.LinAlgError:\n",
        "            print('Singular!')"
      ]
    },
    {
      "cell_type": "code",
      "execution_count": 523,
      "metadata": {},
      "outputs": [
        {
          "data": {
            "application/vnd.plotly.v1+json": {
              "config": {
                "plotlyServerURL": "https://plot.ly"
              },
              "data": [
                {
                  "hovertemplate": "size=%{x}<br>condition num=%{y}<extra></extra>",
                  "legendgroup": "",
                  "line": {
                    "color": "#636efa",
                    "dash": "solid"
                  },
                  "marker": {
                    "symbol": "circle"
                  },
                  "mode": "markers+lines",
                  "name": "",
                  "orientation": "v",
                  "showlegend": false,
                  "type": "scatter",
                  "x": [
                    2,
                    2,
                    2,
                    22,
                    22,
                    22,
                    42,
                    42,
                    42,
                    62,
                    62,
                    62,
                    82,
                    82,
                    82,
                    102,
                    102,
                    102,
                    122,
                    122,
                    122,
                    142,
                    142,
                    142,
                    162,
                    162,
                    162,
                    182,
                    182,
                    182,
                    202,
                    202,
                    202
                  ],
                  "xaxis": "x",
                  "y": [
                    19.281470067903967,
                    19.281470067903967,
                    19.281470067903967,
                    2183485972016403200,
                    2183485972016403200,
                    2183485972016403200,
                    3131611655680254000,
                    3131611655680254000,
                    3131611655680254000,
                    4368212722183995000,
                    4368212722183995000,
                    4368212722183995000,
                    12971915265222074000,
                    12971915265222074000,
                    12971915265222074000,
                    19315456058196350000,
                    19315456058196350000,
                    19315456058196350000,
                    89722717615208400000,
                    89722717615208400000,
                    89722717615208400000,
                    41548458116032225000,
                    41548458116032225000,
                    41548458116032225000,
                    188020122962447340000,
                    188020122962447340000,
                    188020122962447340000,
                    260163375523711300000,
                    260163375523711300000,
                    260163375523711300000,
                    1.6054408741478355e+21,
                    1.6054408741478355e+21,
                    1.6054408741478355e+21
                  ],
                  "yaxis": "y"
                }
              ],
              "layout": {
                "height": 500,
                "legend": {
                  "tracegroupgap": 0
                },
                "margin": {
                  "b": 15,
                  "l": 75,
                  "r": 20,
                  "t": 50
                },
                "template": {
                  "data": {
                    "bar": [
                      {
                        "error_x": {
                          "color": "#2a3f5f"
                        },
                        "error_y": {
                          "color": "#2a3f5f"
                        },
                        "marker": {
                          "line": {
                            "color": "#E5ECF6",
                            "width": 0.5
                          },
                          "pattern": {
                            "fillmode": "overlay",
                            "size": 10,
                            "solidity": 0.2
                          }
                        },
                        "type": "bar"
                      }
                    ],
                    "barpolar": [
                      {
                        "marker": {
                          "line": {
                            "color": "#E5ECF6",
                            "width": 0.5
                          },
                          "pattern": {
                            "fillmode": "overlay",
                            "size": 10,
                            "solidity": 0.2
                          }
                        },
                        "type": "barpolar"
                      }
                    ],
                    "carpet": [
                      {
                        "aaxis": {
                          "endlinecolor": "#2a3f5f",
                          "gridcolor": "white",
                          "linecolor": "white",
                          "minorgridcolor": "white",
                          "startlinecolor": "#2a3f5f"
                        },
                        "baxis": {
                          "endlinecolor": "#2a3f5f",
                          "gridcolor": "white",
                          "linecolor": "white",
                          "minorgridcolor": "white",
                          "startlinecolor": "#2a3f5f"
                        },
                        "type": "carpet"
                      }
                    ],
                    "choropleth": [
                      {
                        "colorbar": {
                          "outlinewidth": 0,
                          "ticks": ""
                        },
                        "type": "choropleth"
                      }
                    ],
                    "contour": [
                      {
                        "colorbar": {
                          "outlinewidth": 0,
                          "ticks": ""
                        },
                        "colorscale": [
                          [
                            0,
                            "#0d0887"
                          ],
                          [
                            0.1111111111111111,
                            "#46039f"
                          ],
                          [
                            0.2222222222222222,
                            "#7201a8"
                          ],
                          [
                            0.3333333333333333,
                            "#9c179e"
                          ],
                          [
                            0.4444444444444444,
                            "#bd3786"
                          ],
                          [
                            0.5555555555555556,
                            "#d8576b"
                          ],
                          [
                            0.6666666666666666,
                            "#ed7953"
                          ],
                          [
                            0.7777777777777778,
                            "#fb9f3a"
                          ],
                          [
                            0.8888888888888888,
                            "#fdca26"
                          ],
                          [
                            1,
                            "#f0f921"
                          ]
                        ],
                        "type": "contour"
                      }
                    ],
                    "contourcarpet": [
                      {
                        "colorbar": {
                          "outlinewidth": 0,
                          "ticks": ""
                        },
                        "type": "contourcarpet"
                      }
                    ],
                    "heatmap": [
                      {
                        "colorbar": {
                          "outlinewidth": 0,
                          "ticks": ""
                        },
                        "colorscale": [
                          [
                            0,
                            "#0d0887"
                          ],
                          [
                            0.1111111111111111,
                            "#46039f"
                          ],
                          [
                            0.2222222222222222,
                            "#7201a8"
                          ],
                          [
                            0.3333333333333333,
                            "#9c179e"
                          ],
                          [
                            0.4444444444444444,
                            "#bd3786"
                          ],
                          [
                            0.5555555555555556,
                            "#d8576b"
                          ],
                          [
                            0.6666666666666666,
                            "#ed7953"
                          ],
                          [
                            0.7777777777777778,
                            "#fb9f3a"
                          ],
                          [
                            0.8888888888888888,
                            "#fdca26"
                          ],
                          [
                            1,
                            "#f0f921"
                          ]
                        ],
                        "type": "heatmap"
                      }
                    ],
                    "heatmapgl": [
                      {
                        "colorbar": {
                          "outlinewidth": 0,
                          "ticks": ""
                        },
                        "colorscale": [
                          [
                            0,
                            "#0d0887"
                          ],
                          [
                            0.1111111111111111,
                            "#46039f"
                          ],
                          [
                            0.2222222222222222,
                            "#7201a8"
                          ],
                          [
                            0.3333333333333333,
                            "#9c179e"
                          ],
                          [
                            0.4444444444444444,
                            "#bd3786"
                          ],
                          [
                            0.5555555555555556,
                            "#d8576b"
                          ],
                          [
                            0.6666666666666666,
                            "#ed7953"
                          ],
                          [
                            0.7777777777777778,
                            "#fb9f3a"
                          ],
                          [
                            0.8888888888888888,
                            "#fdca26"
                          ],
                          [
                            1,
                            "#f0f921"
                          ]
                        ],
                        "type": "heatmapgl"
                      }
                    ],
                    "histogram": [
                      {
                        "marker": {
                          "pattern": {
                            "fillmode": "overlay",
                            "size": 10,
                            "solidity": 0.2
                          }
                        },
                        "type": "histogram"
                      }
                    ],
                    "histogram2d": [
                      {
                        "colorbar": {
                          "outlinewidth": 0,
                          "ticks": ""
                        },
                        "colorscale": [
                          [
                            0,
                            "#0d0887"
                          ],
                          [
                            0.1111111111111111,
                            "#46039f"
                          ],
                          [
                            0.2222222222222222,
                            "#7201a8"
                          ],
                          [
                            0.3333333333333333,
                            "#9c179e"
                          ],
                          [
                            0.4444444444444444,
                            "#bd3786"
                          ],
                          [
                            0.5555555555555556,
                            "#d8576b"
                          ],
                          [
                            0.6666666666666666,
                            "#ed7953"
                          ],
                          [
                            0.7777777777777778,
                            "#fb9f3a"
                          ],
                          [
                            0.8888888888888888,
                            "#fdca26"
                          ],
                          [
                            1,
                            "#f0f921"
                          ]
                        ],
                        "type": "histogram2d"
                      }
                    ],
                    "histogram2dcontour": [
                      {
                        "colorbar": {
                          "outlinewidth": 0,
                          "ticks": ""
                        },
                        "colorscale": [
                          [
                            0,
                            "#0d0887"
                          ],
                          [
                            0.1111111111111111,
                            "#46039f"
                          ],
                          [
                            0.2222222222222222,
                            "#7201a8"
                          ],
                          [
                            0.3333333333333333,
                            "#9c179e"
                          ],
                          [
                            0.4444444444444444,
                            "#bd3786"
                          ],
                          [
                            0.5555555555555556,
                            "#d8576b"
                          ],
                          [
                            0.6666666666666666,
                            "#ed7953"
                          ],
                          [
                            0.7777777777777778,
                            "#fb9f3a"
                          ],
                          [
                            0.8888888888888888,
                            "#fdca26"
                          ],
                          [
                            1,
                            "#f0f921"
                          ]
                        ],
                        "type": "histogram2dcontour"
                      }
                    ],
                    "mesh3d": [
                      {
                        "colorbar": {
                          "outlinewidth": 0,
                          "ticks": ""
                        },
                        "type": "mesh3d"
                      }
                    ],
                    "parcoords": [
                      {
                        "line": {
                          "colorbar": {
                            "outlinewidth": 0,
                            "ticks": ""
                          }
                        },
                        "type": "parcoords"
                      }
                    ],
                    "pie": [
                      {
                        "automargin": true,
                        "type": "pie"
                      }
                    ],
                    "scatter": [
                      {
                        "fillpattern": {
                          "fillmode": "overlay",
                          "size": 10,
                          "solidity": 0.2
                        },
                        "type": "scatter"
                      }
                    ],
                    "scatter3d": [
                      {
                        "line": {
                          "colorbar": {
                            "outlinewidth": 0,
                            "ticks": ""
                          }
                        },
                        "marker": {
                          "colorbar": {
                            "outlinewidth": 0,
                            "ticks": ""
                          }
                        },
                        "type": "scatter3d"
                      }
                    ],
                    "scattercarpet": [
                      {
                        "marker": {
                          "colorbar": {
                            "outlinewidth": 0,
                            "ticks": ""
                          }
                        },
                        "type": "scattercarpet"
                      }
                    ],
                    "scattergeo": [
                      {
                        "marker": {
                          "colorbar": {
                            "outlinewidth": 0,
                            "ticks": ""
                          }
                        },
                        "type": "scattergeo"
                      }
                    ],
                    "scattergl": [
                      {
                        "marker": {
                          "colorbar": {
                            "outlinewidth": 0,
                            "ticks": ""
                          }
                        },
                        "type": "scattergl"
                      }
                    ],
                    "scattermapbox": [
                      {
                        "marker": {
                          "colorbar": {
                            "outlinewidth": 0,
                            "ticks": ""
                          }
                        },
                        "type": "scattermapbox"
                      }
                    ],
                    "scatterpolar": [
                      {
                        "marker": {
                          "colorbar": {
                            "outlinewidth": 0,
                            "ticks": ""
                          }
                        },
                        "type": "scatterpolar"
                      }
                    ],
                    "scatterpolargl": [
                      {
                        "marker": {
                          "colorbar": {
                            "outlinewidth": 0,
                            "ticks": ""
                          }
                        },
                        "type": "scatterpolargl"
                      }
                    ],
                    "scatterternary": [
                      {
                        "marker": {
                          "colorbar": {
                            "outlinewidth": 0,
                            "ticks": ""
                          }
                        },
                        "type": "scatterternary"
                      }
                    ],
                    "surface": [
                      {
                        "colorbar": {
                          "outlinewidth": 0,
                          "ticks": ""
                        },
                        "colorscale": [
                          [
                            0,
                            "#0d0887"
                          ],
                          [
                            0.1111111111111111,
                            "#46039f"
                          ],
                          [
                            0.2222222222222222,
                            "#7201a8"
                          ],
                          [
                            0.3333333333333333,
                            "#9c179e"
                          ],
                          [
                            0.4444444444444444,
                            "#bd3786"
                          ],
                          [
                            0.5555555555555556,
                            "#d8576b"
                          ],
                          [
                            0.6666666666666666,
                            "#ed7953"
                          ],
                          [
                            0.7777777777777778,
                            "#fb9f3a"
                          ],
                          [
                            0.8888888888888888,
                            "#fdca26"
                          ],
                          [
                            1,
                            "#f0f921"
                          ]
                        ],
                        "type": "surface"
                      }
                    ],
                    "table": [
                      {
                        "cells": {
                          "fill": {
                            "color": "#EBF0F8"
                          },
                          "line": {
                            "color": "white"
                          }
                        },
                        "header": {
                          "fill": {
                            "color": "#C8D4E3"
                          },
                          "line": {
                            "color": "white"
                          }
                        },
                        "type": "table"
                      }
                    ]
                  },
                  "layout": {
                    "annotationdefaults": {
                      "arrowcolor": "#2a3f5f",
                      "arrowhead": 0,
                      "arrowwidth": 1
                    },
                    "autotypenumbers": "strict",
                    "coloraxis": {
                      "colorbar": {
                        "outlinewidth": 0,
                        "ticks": ""
                      }
                    },
                    "colorscale": {
                      "diverging": [
                        [
                          0,
                          "#8e0152"
                        ],
                        [
                          0.1,
                          "#c51b7d"
                        ],
                        [
                          0.2,
                          "#de77ae"
                        ],
                        [
                          0.3,
                          "#f1b6da"
                        ],
                        [
                          0.4,
                          "#fde0ef"
                        ],
                        [
                          0.5,
                          "#f7f7f7"
                        ],
                        [
                          0.6,
                          "#e6f5d0"
                        ],
                        [
                          0.7,
                          "#b8e186"
                        ],
                        [
                          0.8,
                          "#7fbc41"
                        ],
                        [
                          0.9,
                          "#4d9221"
                        ],
                        [
                          1,
                          "#276419"
                        ]
                      ],
                      "sequential": [
                        [
                          0,
                          "#0d0887"
                        ],
                        [
                          0.1111111111111111,
                          "#46039f"
                        ],
                        [
                          0.2222222222222222,
                          "#7201a8"
                        ],
                        [
                          0.3333333333333333,
                          "#9c179e"
                        ],
                        [
                          0.4444444444444444,
                          "#bd3786"
                        ],
                        [
                          0.5555555555555556,
                          "#d8576b"
                        ],
                        [
                          0.6666666666666666,
                          "#ed7953"
                        ],
                        [
                          0.7777777777777778,
                          "#fb9f3a"
                        ],
                        [
                          0.8888888888888888,
                          "#fdca26"
                        ],
                        [
                          1,
                          "#f0f921"
                        ]
                      ],
                      "sequentialminus": [
                        [
                          0,
                          "#0d0887"
                        ],
                        [
                          0.1111111111111111,
                          "#46039f"
                        ],
                        [
                          0.2222222222222222,
                          "#7201a8"
                        ],
                        [
                          0.3333333333333333,
                          "#9c179e"
                        ],
                        [
                          0.4444444444444444,
                          "#bd3786"
                        ],
                        [
                          0.5555555555555556,
                          "#d8576b"
                        ],
                        [
                          0.6666666666666666,
                          "#ed7953"
                        ],
                        [
                          0.7777777777777778,
                          "#fb9f3a"
                        ],
                        [
                          0.8888888888888888,
                          "#fdca26"
                        ],
                        [
                          1,
                          "#f0f921"
                        ]
                      ]
                    },
                    "colorway": [
                      "#636efa",
                      "#EF553B",
                      "#00cc96",
                      "#ab63fa",
                      "#FFA15A",
                      "#19d3f3",
                      "#FF6692",
                      "#B6E880",
                      "#FF97FF",
                      "#FECB52"
                    ],
                    "font": {
                      "color": "#2a3f5f"
                    },
                    "geo": {
                      "bgcolor": "white",
                      "lakecolor": "white",
                      "landcolor": "#E5ECF6",
                      "showlakes": true,
                      "showland": true,
                      "subunitcolor": "white"
                    },
                    "hoverlabel": {
                      "align": "left"
                    },
                    "hovermode": "closest",
                    "mapbox": {
                      "style": "light"
                    },
                    "paper_bgcolor": "white",
                    "plot_bgcolor": "#E5ECF6",
                    "polar": {
                      "angularaxis": {
                        "gridcolor": "white",
                        "linecolor": "white",
                        "ticks": ""
                      },
                      "bgcolor": "#E5ECF6",
                      "radialaxis": {
                        "gridcolor": "white",
                        "linecolor": "white",
                        "ticks": ""
                      }
                    },
                    "scene": {
                      "xaxis": {
                        "backgroundcolor": "#E5ECF6",
                        "gridcolor": "white",
                        "gridwidth": 2,
                        "linecolor": "white",
                        "showbackground": true,
                        "ticks": "",
                        "zerolinecolor": "white"
                      },
                      "yaxis": {
                        "backgroundcolor": "#E5ECF6",
                        "gridcolor": "white",
                        "gridwidth": 2,
                        "linecolor": "white",
                        "showbackground": true,
                        "ticks": "",
                        "zerolinecolor": "white"
                      },
                      "zaxis": {
                        "backgroundcolor": "#E5ECF6",
                        "gridcolor": "white",
                        "gridwidth": 2,
                        "linecolor": "white",
                        "showbackground": true,
                        "ticks": "",
                        "zerolinecolor": "white"
                      }
                    },
                    "shapedefaults": {
                      "line": {
                        "color": "#2a3f5f"
                      }
                    },
                    "ternary": {
                      "aaxis": {
                        "gridcolor": "white",
                        "linecolor": "white",
                        "ticks": ""
                      },
                      "baxis": {
                        "gridcolor": "white",
                        "linecolor": "white",
                        "ticks": ""
                      },
                      "bgcolor": "#E5ECF6",
                      "caxis": {
                        "gridcolor": "white",
                        "linecolor": "white",
                        "ticks": ""
                      }
                    },
                    "title": {
                      "x": 0.05
                    },
                    "xaxis": {
                      "automargin": true,
                      "gridcolor": "white",
                      "linecolor": "white",
                      "ticks": "",
                      "title": {
                        "standoff": 15
                      },
                      "zerolinecolor": "white",
                      "zerolinewidth": 2
                    },
                    "yaxis": {
                      "automargin": true,
                      "gridcolor": "white",
                      "linecolor": "white",
                      "ticks": "",
                      "title": {
                        "standoff": 15
                      },
                      "zerolinecolor": "white",
                      "zerolinewidth": 2
                    }
                  }
                },
                "title": {
                  "text": "cond(n)"
                },
                "width": 1000,
                "xaxis": {
                  "anchor": "y",
                  "domain": [
                    0,
                    1
                  ],
                  "title": {
                    "text": "size"
                  }
                },
                "yaxis": {
                  "anchor": "x",
                  "domain": [
                    0,
                    1
                  ],
                  "title": {
                    "text": "condition num"
                  }
                }
              }
            }
          },
          "metadata": {},
          "output_type": "display_data"
        }
      ],
      "source": [
        "fig = px.line(testing_df2, x='size', y='condition num', markers='o', title='cond(n)', height=500, width=1000)\n",
        "fig.update_layout(margin=dict(l=75, r=20, t=50, b=15))"
      ]
    },
    {
      "cell_type": "code",
      "execution_count": 524,
      "metadata": {},
      "outputs": [
        {
          "data": {
            "application/vnd.plotly.v1+json": {
              "config": {
                "plotlyServerURL": "https://plot.ly"
              },
              "data": [
                {
                  "hovertemplate": "method=Seidel method<br>size=%{x}<br>rel error=%{y}<extra></extra>",
                  "legendgroup": "Seidel method",
                  "line": {
                    "color": "#636efa",
                    "dash": "solid"
                  },
                  "marker": {
                    "symbol": "circle"
                  },
                  "mode": "markers+lines",
                  "name": "Seidel method",
                  "orientation": "v",
                  "showlegend": true,
                  "type": "scatter",
                  "x": [
                    2,
                    22,
                    42,
                    62,
                    82,
                    102,
                    122,
                    142,
                    162,
                    182,
                    202
                  ],
                  "xaxis": "x",
                  "y": [
                    0.0002559599715883447,
                    0.07560593851944063,
                    0.046163108921737535,
                    0.04825259369487203,
                    0.05417055707530984,
                    0.03841348284105463,
                    0.04634416024990973,
                    0.02845604011071313,
                    0.03272947507147365,
                    0.031873026161561416,
                    0.021652200594197722
                  ],
                  "yaxis": "y"
                },
                {
                  "hovertemplate": "method=Gauss method<br>size=%{x}<br>rel error=%{y}<extra></extra>",
                  "legendgroup": "Gauss method",
                  "line": {
                    "color": "#EF553B",
                    "dash": "solid"
                  },
                  "marker": {
                    "symbol": "circle"
                  },
                  "mode": "markers+lines",
                  "name": "Gauss method",
                  "orientation": "v",
                  "showlegend": true,
                  "type": "scatter",
                  "x": [
                    2,
                    22,
                    42,
                    62,
                    82,
                    102,
                    122,
                    142,
                    162,
                    182,
                    202
                  ],
                  "xaxis": "x",
                  "y": [
                    6.661338147750939e-16,
                    30.343145177982276,
                    33.47515219389222,
                    57.49498424555662,
                    2733.139145472961,
                    169.3329933205141,
                    351.85219170483043,
                    866.0229656332566,
                    72.57969953015522,
                    1104.3673608592358,
                    154.39411255342844
                  ],
                  "yaxis": "y"
                },
                {
                  "hovertemplate": "method=LU decomposition<br>size=%{x}<br>rel error=%{y}<extra></extra>",
                  "legendgroup": "LU decomposition",
                  "line": {
                    "color": "#00cc96",
                    "dash": "solid"
                  },
                  "marker": {
                    "symbol": "circle"
                  },
                  "mode": "markers+lines",
                  "name": "LU decomposition",
                  "orientation": "v",
                  "showlegend": true,
                  "type": "scatter",
                  "x": [
                    2,
                    22,
                    42,
                    62,
                    82,
                    102,
                    122,
                    142,
                    162,
                    182,
                    202
                  ],
                  "xaxis": "x",
                  "y": [
                    6.661338147750939e-16,
                    7.0839427223546725,
                    178.41022399819585,
                    74.64092259584012,
                    111.56176944641399,
                    302.05237676072414,
                    187.88863854075956,
                    203.88167580566733,
                    null,
                    null,
                    null
                  ],
                  "yaxis": "y"
                }
              ],
              "layout": {
                "height": 500,
                "legend": {
                  "title": {
                    "text": "method"
                  },
                  "tracegroupgap": 0,
                  "x": 0.005,
                  "y": 0.99
                },
                "margin": {
                  "b": 15,
                  "l": 75,
                  "r": 20,
                  "t": 50
                },
                "template": {
                  "data": {
                    "bar": [
                      {
                        "error_x": {
                          "color": "#2a3f5f"
                        },
                        "error_y": {
                          "color": "#2a3f5f"
                        },
                        "marker": {
                          "line": {
                            "color": "#E5ECF6",
                            "width": 0.5
                          },
                          "pattern": {
                            "fillmode": "overlay",
                            "size": 10,
                            "solidity": 0.2
                          }
                        },
                        "type": "bar"
                      }
                    ],
                    "barpolar": [
                      {
                        "marker": {
                          "line": {
                            "color": "#E5ECF6",
                            "width": 0.5
                          },
                          "pattern": {
                            "fillmode": "overlay",
                            "size": 10,
                            "solidity": 0.2
                          }
                        },
                        "type": "barpolar"
                      }
                    ],
                    "carpet": [
                      {
                        "aaxis": {
                          "endlinecolor": "#2a3f5f",
                          "gridcolor": "white",
                          "linecolor": "white",
                          "minorgridcolor": "white",
                          "startlinecolor": "#2a3f5f"
                        },
                        "baxis": {
                          "endlinecolor": "#2a3f5f",
                          "gridcolor": "white",
                          "linecolor": "white",
                          "minorgridcolor": "white",
                          "startlinecolor": "#2a3f5f"
                        },
                        "type": "carpet"
                      }
                    ],
                    "choropleth": [
                      {
                        "colorbar": {
                          "outlinewidth": 0,
                          "ticks": ""
                        },
                        "type": "choropleth"
                      }
                    ],
                    "contour": [
                      {
                        "colorbar": {
                          "outlinewidth": 0,
                          "ticks": ""
                        },
                        "colorscale": [
                          [
                            0,
                            "#0d0887"
                          ],
                          [
                            0.1111111111111111,
                            "#46039f"
                          ],
                          [
                            0.2222222222222222,
                            "#7201a8"
                          ],
                          [
                            0.3333333333333333,
                            "#9c179e"
                          ],
                          [
                            0.4444444444444444,
                            "#bd3786"
                          ],
                          [
                            0.5555555555555556,
                            "#d8576b"
                          ],
                          [
                            0.6666666666666666,
                            "#ed7953"
                          ],
                          [
                            0.7777777777777778,
                            "#fb9f3a"
                          ],
                          [
                            0.8888888888888888,
                            "#fdca26"
                          ],
                          [
                            1,
                            "#f0f921"
                          ]
                        ],
                        "type": "contour"
                      }
                    ],
                    "contourcarpet": [
                      {
                        "colorbar": {
                          "outlinewidth": 0,
                          "ticks": ""
                        },
                        "type": "contourcarpet"
                      }
                    ],
                    "heatmap": [
                      {
                        "colorbar": {
                          "outlinewidth": 0,
                          "ticks": ""
                        },
                        "colorscale": [
                          [
                            0,
                            "#0d0887"
                          ],
                          [
                            0.1111111111111111,
                            "#46039f"
                          ],
                          [
                            0.2222222222222222,
                            "#7201a8"
                          ],
                          [
                            0.3333333333333333,
                            "#9c179e"
                          ],
                          [
                            0.4444444444444444,
                            "#bd3786"
                          ],
                          [
                            0.5555555555555556,
                            "#d8576b"
                          ],
                          [
                            0.6666666666666666,
                            "#ed7953"
                          ],
                          [
                            0.7777777777777778,
                            "#fb9f3a"
                          ],
                          [
                            0.8888888888888888,
                            "#fdca26"
                          ],
                          [
                            1,
                            "#f0f921"
                          ]
                        ],
                        "type": "heatmap"
                      }
                    ],
                    "heatmapgl": [
                      {
                        "colorbar": {
                          "outlinewidth": 0,
                          "ticks": ""
                        },
                        "colorscale": [
                          [
                            0,
                            "#0d0887"
                          ],
                          [
                            0.1111111111111111,
                            "#46039f"
                          ],
                          [
                            0.2222222222222222,
                            "#7201a8"
                          ],
                          [
                            0.3333333333333333,
                            "#9c179e"
                          ],
                          [
                            0.4444444444444444,
                            "#bd3786"
                          ],
                          [
                            0.5555555555555556,
                            "#d8576b"
                          ],
                          [
                            0.6666666666666666,
                            "#ed7953"
                          ],
                          [
                            0.7777777777777778,
                            "#fb9f3a"
                          ],
                          [
                            0.8888888888888888,
                            "#fdca26"
                          ],
                          [
                            1,
                            "#f0f921"
                          ]
                        ],
                        "type": "heatmapgl"
                      }
                    ],
                    "histogram": [
                      {
                        "marker": {
                          "pattern": {
                            "fillmode": "overlay",
                            "size": 10,
                            "solidity": 0.2
                          }
                        },
                        "type": "histogram"
                      }
                    ],
                    "histogram2d": [
                      {
                        "colorbar": {
                          "outlinewidth": 0,
                          "ticks": ""
                        },
                        "colorscale": [
                          [
                            0,
                            "#0d0887"
                          ],
                          [
                            0.1111111111111111,
                            "#46039f"
                          ],
                          [
                            0.2222222222222222,
                            "#7201a8"
                          ],
                          [
                            0.3333333333333333,
                            "#9c179e"
                          ],
                          [
                            0.4444444444444444,
                            "#bd3786"
                          ],
                          [
                            0.5555555555555556,
                            "#d8576b"
                          ],
                          [
                            0.6666666666666666,
                            "#ed7953"
                          ],
                          [
                            0.7777777777777778,
                            "#fb9f3a"
                          ],
                          [
                            0.8888888888888888,
                            "#fdca26"
                          ],
                          [
                            1,
                            "#f0f921"
                          ]
                        ],
                        "type": "histogram2d"
                      }
                    ],
                    "histogram2dcontour": [
                      {
                        "colorbar": {
                          "outlinewidth": 0,
                          "ticks": ""
                        },
                        "colorscale": [
                          [
                            0,
                            "#0d0887"
                          ],
                          [
                            0.1111111111111111,
                            "#46039f"
                          ],
                          [
                            0.2222222222222222,
                            "#7201a8"
                          ],
                          [
                            0.3333333333333333,
                            "#9c179e"
                          ],
                          [
                            0.4444444444444444,
                            "#bd3786"
                          ],
                          [
                            0.5555555555555556,
                            "#d8576b"
                          ],
                          [
                            0.6666666666666666,
                            "#ed7953"
                          ],
                          [
                            0.7777777777777778,
                            "#fb9f3a"
                          ],
                          [
                            0.8888888888888888,
                            "#fdca26"
                          ],
                          [
                            1,
                            "#f0f921"
                          ]
                        ],
                        "type": "histogram2dcontour"
                      }
                    ],
                    "mesh3d": [
                      {
                        "colorbar": {
                          "outlinewidth": 0,
                          "ticks": ""
                        },
                        "type": "mesh3d"
                      }
                    ],
                    "parcoords": [
                      {
                        "line": {
                          "colorbar": {
                            "outlinewidth": 0,
                            "ticks": ""
                          }
                        },
                        "type": "parcoords"
                      }
                    ],
                    "pie": [
                      {
                        "automargin": true,
                        "type": "pie"
                      }
                    ],
                    "scatter": [
                      {
                        "fillpattern": {
                          "fillmode": "overlay",
                          "size": 10,
                          "solidity": 0.2
                        },
                        "type": "scatter"
                      }
                    ],
                    "scatter3d": [
                      {
                        "line": {
                          "colorbar": {
                            "outlinewidth": 0,
                            "ticks": ""
                          }
                        },
                        "marker": {
                          "colorbar": {
                            "outlinewidth": 0,
                            "ticks": ""
                          }
                        },
                        "type": "scatter3d"
                      }
                    ],
                    "scattercarpet": [
                      {
                        "marker": {
                          "colorbar": {
                            "outlinewidth": 0,
                            "ticks": ""
                          }
                        },
                        "type": "scattercarpet"
                      }
                    ],
                    "scattergeo": [
                      {
                        "marker": {
                          "colorbar": {
                            "outlinewidth": 0,
                            "ticks": ""
                          }
                        },
                        "type": "scattergeo"
                      }
                    ],
                    "scattergl": [
                      {
                        "marker": {
                          "colorbar": {
                            "outlinewidth": 0,
                            "ticks": ""
                          }
                        },
                        "type": "scattergl"
                      }
                    ],
                    "scattermapbox": [
                      {
                        "marker": {
                          "colorbar": {
                            "outlinewidth": 0,
                            "ticks": ""
                          }
                        },
                        "type": "scattermapbox"
                      }
                    ],
                    "scatterpolar": [
                      {
                        "marker": {
                          "colorbar": {
                            "outlinewidth": 0,
                            "ticks": ""
                          }
                        },
                        "type": "scatterpolar"
                      }
                    ],
                    "scatterpolargl": [
                      {
                        "marker": {
                          "colorbar": {
                            "outlinewidth": 0,
                            "ticks": ""
                          }
                        },
                        "type": "scatterpolargl"
                      }
                    ],
                    "scatterternary": [
                      {
                        "marker": {
                          "colorbar": {
                            "outlinewidth": 0,
                            "ticks": ""
                          }
                        },
                        "type": "scatterternary"
                      }
                    ],
                    "surface": [
                      {
                        "colorbar": {
                          "outlinewidth": 0,
                          "ticks": ""
                        },
                        "colorscale": [
                          [
                            0,
                            "#0d0887"
                          ],
                          [
                            0.1111111111111111,
                            "#46039f"
                          ],
                          [
                            0.2222222222222222,
                            "#7201a8"
                          ],
                          [
                            0.3333333333333333,
                            "#9c179e"
                          ],
                          [
                            0.4444444444444444,
                            "#bd3786"
                          ],
                          [
                            0.5555555555555556,
                            "#d8576b"
                          ],
                          [
                            0.6666666666666666,
                            "#ed7953"
                          ],
                          [
                            0.7777777777777778,
                            "#fb9f3a"
                          ],
                          [
                            0.8888888888888888,
                            "#fdca26"
                          ],
                          [
                            1,
                            "#f0f921"
                          ]
                        ],
                        "type": "surface"
                      }
                    ],
                    "table": [
                      {
                        "cells": {
                          "fill": {
                            "color": "#EBF0F8"
                          },
                          "line": {
                            "color": "white"
                          }
                        },
                        "header": {
                          "fill": {
                            "color": "#C8D4E3"
                          },
                          "line": {
                            "color": "white"
                          }
                        },
                        "type": "table"
                      }
                    ]
                  },
                  "layout": {
                    "annotationdefaults": {
                      "arrowcolor": "#2a3f5f",
                      "arrowhead": 0,
                      "arrowwidth": 1
                    },
                    "autotypenumbers": "strict",
                    "coloraxis": {
                      "colorbar": {
                        "outlinewidth": 0,
                        "ticks": ""
                      }
                    },
                    "colorscale": {
                      "diverging": [
                        [
                          0,
                          "#8e0152"
                        ],
                        [
                          0.1,
                          "#c51b7d"
                        ],
                        [
                          0.2,
                          "#de77ae"
                        ],
                        [
                          0.3,
                          "#f1b6da"
                        ],
                        [
                          0.4,
                          "#fde0ef"
                        ],
                        [
                          0.5,
                          "#f7f7f7"
                        ],
                        [
                          0.6,
                          "#e6f5d0"
                        ],
                        [
                          0.7,
                          "#b8e186"
                        ],
                        [
                          0.8,
                          "#7fbc41"
                        ],
                        [
                          0.9,
                          "#4d9221"
                        ],
                        [
                          1,
                          "#276419"
                        ]
                      ],
                      "sequential": [
                        [
                          0,
                          "#0d0887"
                        ],
                        [
                          0.1111111111111111,
                          "#46039f"
                        ],
                        [
                          0.2222222222222222,
                          "#7201a8"
                        ],
                        [
                          0.3333333333333333,
                          "#9c179e"
                        ],
                        [
                          0.4444444444444444,
                          "#bd3786"
                        ],
                        [
                          0.5555555555555556,
                          "#d8576b"
                        ],
                        [
                          0.6666666666666666,
                          "#ed7953"
                        ],
                        [
                          0.7777777777777778,
                          "#fb9f3a"
                        ],
                        [
                          0.8888888888888888,
                          "#fdca26"
                        ],
                        [
                          1,
                          "#f0f921"
                        ]
                      ],
                      "sequentialminus": [
                        [
                          0,
                          "#0d0887"
                        ],
                        [
                          0.1111111111111111,
                          "#46039f"
                        ],
                        [
                          0.2222222222222222,
                          "#7201a8"
                        ],
                        [
                          0.3333333333333333,
                          "#9c179e"
                        ],
                        [
                          0.4444444444444444,
                          "#bd3786"
                        ],
                        [
                          0.5555555555555556,
                          "#d8576b"
                        ],
                        [
                          0.6666666666666666,
                          "#ed7953"
                        ],
                        [
                          0.7777777777777778,
                          "#fb9f3a"
                        ],
                        [
                          0.8888888888888888,
                          "#fdca26"
                        ],
                        [
                          1,
                          "#f0f921"
                        ]
                      ]
                    },
                    "colorway": [
                      "#636efa",
                      "#EF553B",
                      "#00cc96",
                      "#ab63fa",
                      "#FFA15A",
                      "#19d3f3",
                      "#FF6692",
                      "#B6E880",
                      "#FF97FF",
                      "#FECB52"
                    ],
                    "font": {
                      "color": "#2a3f5f"
                    },
                    "geo": {
                      "bgcolor": "white",
                      "lakecolor": "white",
                      "landcolor": "#E5ECF6",
                      "showlakes": true,
                      "showland": true,
                      "subunitcolor": "white"
                    },
                    "hoverlabel": {
                      "align": "left"
                    },
                    "hovermode": "closest",
                    "mapbox": {
                      "style": "light"
                    },
                    "paper_bgcolor": "white",
                    "plot_bgcolor": "#E5ECF6",
                    "polar": {
                      "angularaxis": {
                        "gridcolor": "white",
                        "linecolor": "white",
                        "ticks": ""
                      },
                      "bgcolor": "#E5ECF6",
                      "radialaxis": {
                        "gridcolor": "white",
                        "linecolor": "white",
                        "ticks": ""
                      }
                    },
                    "scene": {
                      "xaxis": {
                        "backgroundcolor": "#E5ECF6",
                        "gridcolor": "white",
                        "gridwidth": 2,
                        "linecolor": "white",
                        "showbackground": true,
                        "ticks": "",
                        "zerolinecolor": "white"
                      },
                      "yaxis": {
                        "backgroundcolor": "#E5ECF6",
                        "gridcolor": "white",
                        "gridwidth": 2,
                        "linecolor": "white",
                        "showbackground": true,
                        "ticks": "",
                        "zerolinecolor": "white"
                      },
                      "zaxis": {
                        "backgroundcolor": "#E5ECF6",
                        "gridcolor": "white",
                        "gridwidth": 2,
                        "linecolor": "white",
                        "showbackground": true,
                        "ticks": "",
                        "zerolinecolor": "white"
                      }
                    },
                    "shapedefaults": {
                      "line": {
                        "color": "#2a3f5f"
                      }
                    },
                    "ternary": {
                      "aaxis": {
                        "gridcolor": "white",
                        "linecolor": "white",
                        "ticks": ""
                      },
                      "baxis": {
                        "gridcolor": "white",
                        "linecolor": "white",
                        "ticks": ""
                      },
                      "bgcolor": "#E5ECF6",
                      "caxis": {
                        "gridcolor": "white",
                        "linecolor": "white",
                        "ticks": ""
                      }
                    },
                    "title": {
                      "x": 0.05
                    },
                    "xaxis": {
                      "automargin": true,
                      "gridcolor": "white",
                      "linecolor": "white",
                      "ticks": "",
                      "title": {
                        "standoff": 15
                      },
                      "zerolinecolor": "white",
                      "zerolinewidth": 2
                    },
                    "yaxis": {
                      "automargin": true,
                      "gridcolor": "white",
                      "linecolor": "white",
                      "ticks": "",
                      "title": {
                        "standoff": 15
                      },
                      "zerolinecolor": "white",
                      "zerolinewidth": 2
                    }
                  }
                },
                "title": {
                  "text": "err(n)"
                },
                "width": 1000,
                "xaxis": {
                  "anchor": "y",
                  "domain": [
                    0,
                    1
                  ],
                  "title": {
                    "text": "size"
                  }
                },
                "yaxis": {
                  "anchor": "x",
                  "domain": [
                    0,
                    1
                  ],
                  "title": {
                    "text": "rel error"
                  }
                }
              }
            }
          },
          "metadata": {},
          "output_type": "display_data"
        }
      ],
      "source": [
        "fig = px.line(testing_df2, x='size', y='rel error', color='method', markers='o', title='err(n)', height=500, width=1000)\n",
        "fig.update_layout(legend=dict(x=0.005, y=0.99),\n",
        "                  margin=dict(l=75, r=20, t=50, b=15))"
      ]
    },
    {
      "attachments": {},
      "cell_type": "markdown",
      "metadata": {},
      "source": [
        "\n",
        "### Сравнение методов\n"
      ]
    },
    {
      "cell_type": "code",
      "execution_count": 525,
      "metadata": {},
      "outputs": [
        {
          "name": "stdout",
          "output_type": "stream",
          "text": [
            "CPU times: total: 15.6 ms\n",
            "Wall time: 2.1 ms\n",
            "Seidel method, n = 2, relative residual: 0.0003124515859353202\n",
            "\n",
            "CPU times: total: 0 ns\n",
            "Wall time: 0 ns\n",
            "Gauss method, n = 2, relative residual: 0.0\n",
            "\n",
            "CPU times: total: 0 ns\n",
            "Wall time: 0 ns\n",
            "LU decomposition, n = 2, relative residual: 0.0\n",
            "\n",
            "CPU times: total: 15.6 ms\n",
            "Wall time: 23.8 ms\n",
            "Seidel method, n = 10, relative residual: 0.0014357336173672203\n",
            "\n",
            "CPU times: total: 0 ns\n",
            "Wall time: 2.19 ms\n",
            "Gauss method, n = 10, relative residual: 4.468260552481954e-15\n",
            "\n",
            "CPU times: total: 0 ns\n",
            "Wall time: 999 µs\n",
            "LU decomposition, n = 10, relative residual: 6.378016783845158e-15\n",
            "\n",
            "CPU times: total: 734 ms\n",
            "Wall time: 541 ms\n",
            "Seidel method, n = 50, relative residual: 0.00661162474299885\n",
            "\n",
            "CPU times: total: 15.6 ms\n",
            "Wall time: 22 ms\n",
            "Gauss method, n = 50, relative residual: 3.55879823041959e-13\n",
            "\n",
            "CPU times: total: 0 ns\n",
            "Wall time: 10 ms\n",
            "LU decomposition, n = 50, relative residual: 1.5983898287950513e-14\n",
            "\n",
            "CPU times: total: 2.11 s\n",
            "Wall time: 2.26 s\n",
            "Seidel method, n = 100, relative residual: 0.008734293657015928\n",
            "\n",
            "CPU times: total: 125 ms\n",
            "Wall time: 150 ms\n",
            "Gauss method, n = 100, relative residual: 3.5790275866465405e-14\n",
            "\n",
            "CPU times: total: 31.2 ms\n",
            "Wall time: 40.3 ms\n",
            "LU decomposition, n = 100, relative residual: 1.2529185144278622e-14\n",
            "\n",
            "CPU times: total: 29.1 s\n",
            "Wall time: 13 s\n",
            "Seidel method, n = 200, relative residual: 0.014027510110677233\n",
            "\n",
            "CPU times: total: 938 ms\n",
            "Wall time: 1.28 s\n",
            "Gauss method, n = 200, relative residual: 3.69603014723151e-12\n",
            "\n",
            "CPU times: total: 141 ms\n",
            "Wall time: 182 ms\n",
            "LU decomposition, n = 200, relative residual: 1.1090276038625096e-12\n",
            "\n"
          ]
        }
      ],
      "source": [
        "for size in [2, 10, 50, 100, 200]:\n",
        "    A_k = gen_matrix(size, 0.01)\n",
        "    F_k = A_k @ np.arange(1, A_k.shape[0] + 1).T\n",
        "\n",
        "    for method in methods:\n",
        "        try:\n",
        "            %time x = method[0](A_k.copy(), F_k.copy(), epsilon)\n",
        "            print(f'{method[1]}, n = {size}, relative residual: {linalg.norm(x - np.arange(1, A_k.shape[0] + 1)) / linalg.norm(np.arange(1, A_k.shape[0] + 1))}\\n')\n",
        "        except linalg.LinAlgError:\n",
        "            print('Singular!')"
      ]
    },
    {
      "cell_type": "code",
      "execution_count": 526,
      "metadata": {},
      "outputs": [
        {
          "name": "stdout",
          "output_type": "stream",
          "text": [
            "CPU times: total: 0 ns\n",
            "Wall time: 2 ms\n",
            "Seidel method, n = 2, relative residual: 0.0002559599715883447\n",
            "\n",
            "CPU times: total: 0 ns\n",
            "Wall time: 0 ns\n",
            "Gauss method, n = 2, relative residual: 6.661338147750939e-16\n",
            "\n",
            "CPU times: total: 0 ns\n",
            "Wall time: 0 ns\n",
            "LU decomposition, n = 2, relative residual: 6.661338147750939e-16\n",
            "\n",
            "CPU times: total: 0 ns\n",
            "Wall time: 114 ms\n",
            "Seidel method, n = 10, relative residual: 0.0682840601913047\n",
            "\n",
            "CPU times: total: 0 ns\n",
            "Wall time: 987 µs\n",
            "Gauss method, n = 10, relative residual: 0.00021865996799152874\n",
            "\n",
            "CPU times: total: 0 ns\n",
            "Wall time: 1e+03 µs\n",
            "LU decomposition, n = 10, relative residual: 0.0002600663667431266\n",
            "\n",
            "CPU times: total: 1.22 s\n",
            "Wall time: 1.39 s\n",
            "Seidel method, n = 50, relative residual: 0.037299798955959786\n",
            "\n",
            "CPU times: total: 0 ns\n",
            "Wall time: 20.5 ms\n",
            "Gauss method, n = 50, relative residual: 42.623087538677595\n",
            "\n",
            "CPU times: total: 15.6 ms\n",
            "Wall time: 11.5 ms\n",
            "LU decomposition, n = 50, relative residual: 73.80436767453013\n",
            "\n",
            "CPU times: total: 1.44 s\n",
            "Wall time: 1.45 s\n",
            "Seidel method, n = 100, relative residual: 0.039072019596336556\n",
            "\n",
            "CPU times: total: 62.5 ms\n",
            "Wall time: 135 ms\n",
            "Gauss method, n = 100, relative residual: 68.09992723346838\n",
            "\n",
            "CPU times: total: 15.6 ms\n",
            "Wall time: 41.4 ms\n",
            "LU decomposition, n = 100, relative residual: 167.3267191826944\n",
            "\n",
            "CPU times: total: 8.14 s\n",
            "Wall time: 3.21 s\n",
            "Seidel method, n = 200, relative residual: 0.03465891919094352\n",
            "\n",
            "CPU times: total: 1.23 s\n",
            "Wall time: 1.09 s\n",
            "Gauss method, n = 200, relative residual: 126.76983557772718\n",
            "\n",
            "CPU times: total: 125 ms\n",
            "Wall time: 176 ms\n",
            "LU decomposition, n = 200, relative residual: nan\n",
            "\n"
          ]
        },
        {
          "name": "stderr",
          "output_type": "stream",
          "text": [
            "C:\\Users\\moroz\\AppData\\Local\\Temp\\ipykernel_31848\\666460282.py:10: RuntimeWarning:\n",
            "\n",
            "invalid value encountered in scalar divide\n",
            "\n",
            "C:\\Users\\moroz\\AppData\\Local\\Temp\\ipykernel_31848\\666460282.py:10: RuntimeWarning:\n",
            "\n",
            "divide by zero encountered in scalar divide\n",
            "\n",
            "C:\\Users\\moroz\\AppData\\Local\\Temp\\ipykernel_31848\\495086872.py:7: RuntimeWarning:\n",
            "\n",
            "divide by zero encountered in divide\n",
            "\n",
            "C:\\Users\\moroz\\AppData\\Local\\Temp\\ipykernel_31848\\495086872.py:7: RuntimeWarning:\n",
            "\n",
            "invalid value encountered in divide\n",
            "\n"
          ]
        }
      ],
      "source": [
        "for size in [2, 10, 50, 100, 200]:\n",
        "    A_k = gen_hilbert(size)\n",
        "    F_k = A_k @ np.arange(1, A_k.shape[0] + 1).T\n",
        "\n",
        "    for method in methods:\n",
        "        try:\n",
        "            %time x = method[0](A_k.copy(), F_k.copy(), epsilon)\n",
        "            print(f'{method[1]}, n = {size}, relative residual: {linalg.norm(x - np.arange(1, A_k.shape[0] + 1)) / linalg.norm(np.arange(1, A_k.shape[0] + 1))}\\n')\n",
        "        except linalg.LinAlgError:\n",
        "            print('Singular!')"
      ]
    }
  ],
  "metadata": {
    "colab": {
      "provenance": []
    },
    "kernelspec": {
      "display_name": "python3_10",
      "language": "python",
      "name": "python3"
    },
    "language_info": {
      "codemirror_mode": {
        "name": "ipython",
        "version": 3
      },
      "file_extension": ".py",
      "mimetype": "text/x-python",
      "name": "python",
      "nbconvert_exporter": "python",
      "pygments_lexer": "ipython3",
      "version": "3.11.5"
    },
    "orig_nbformat": 4
  },
  "nbformat": 4,
  "nbformat_minor": 0
}
