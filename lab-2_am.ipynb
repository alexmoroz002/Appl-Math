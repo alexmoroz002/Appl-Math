{
 "cells": [
  {
   "cell_type": "code",
   "execution_count": 92,
   "metadata": {
    "collapsed": true,
    "ExecuteTime": {
     "start_time": "2023-04-12T18:38:48.799364Z",
     "end_time": "2023-04-12T18:38:48.829297Z"
    }
   },
   "outputs": [],
   "source": [
    "import matplotlib.pyplot as plt\n",
    "import numpy as np\n",
    "import pandas as pd"
   ]
  },
  {
   "cell_type": "code",
   "execution_count": 99,
   "outputs": [],
   "source": [
    "'''\n",
    "Константа золотого сечения\n",
    "'''\n",
    "K = (3 - np.sqrt(5)) / 2"
   ],
   "metadata": {
    "collapsed": false,
    "ExecuteTime": {
     "start_time": "2023-04-12T19:52:53.398175Z",
     "end_time": "2023-04-12T19:52:53.430387Z"
    }
   }
  },
  {
   "cell_type": "code",
   "execution_count": 94,
   "outputs": [],
   "source": [
    "'''\n",
    "Заданная функция и отрезок минимизации с точностью минимизации\n",
    "'''\n",
    "def function(x):\n",
    "    return 0.01 * x**2\n",
    "\n",
    "a = -5\n",
    "b = 12\n",
    "eps = 0.001"
   ],
   "metadata": {
    "collapsed": false,
    "ExecuteTime": {
     "start_time": "2023-04-12T18:38:48.827290Z",
     "end_time": "2023-04-12T18:38:48.857151Z"
    }
   }
  },
  {
   "cell_type": "markdown",
   "source": [
    "\n",
    "### Метод парабол\n"
   ],
   "metadata": {
    "collapsed": false
   }
  },
  {
   "cell_type": "code",
   "execution_count": 95,
   "outputs": [],
   "source": [
    "def parabola_minimization(left, right, eps, func):\n",
    "    mid = (left + right) / 2\n",
    "    f_left = func(left)\n",
    "    f_right = func(right)\n",
    "    calls = 2\n",
    "    while right - left > eps:\n",
    "        mid = (left + right) / 2\n",
    "        f_mid = func(mid)\n",
    "        calls += 1\n",
    "\n",
    "        dividend = (((mid - left)**2) * (f_mid - f_right) - ((mid - right)**2) * (f_mid - f_left))\n",
    "        divisor = (2 * ((mid - left) * (f_mid - f_right) - (mid - right) * (f_mid - f_left)))\n",
    "\n",
    "        u = mid - np.divide(dividend, divisor)\n",
    "        f_u = func(u)\n",
    "        calls += 1\n",
    "\n",
    "        if mid >= u:\n",
    "            if f_mid < f_u:\n",
    "                left = u\n",
    "                f_left = f_u\n",
    "            else:\n",
    "                right = mid\n",
    "                f_right = f_mid\n",
    "\n",
    "        if mid < u:\n",
    "            if f_mid < f_u:\n",
    "                right = u\n",
    "                f_right = f_u\n",
    "            else:\n",
    "                left = mid\n",
    "                f_left = f_mid\n",
    "    return mid, calls"
   ],
   "metadata": {
    "collapsed": false,
    "ExecuteTime": {
     "start_time": "2023-04-12T18:38:48.847235Z",
     "end_time": "2023-04-12T18:38:48.858148Z"
    }
   }
  },
  {
   "cell_type": "code",
   "execution_count": 96,
   "outputs": [
    {
     "name": "stdout",
     "output_type": "stream",
     "text": [
      "(-0.000335693359375, 32)\n"
     ]
    }
   ],
   "source": [
    "print(parabola_minimization(a, b, eps, function))"
   ],
   "metadata": {
    "collapsed": false,
    "ExecuteTime": {
     "start_time": "2023-04-12T18:38:48.859146Z",
     "end_time": "2023-04-12T18:38:48.872114Z"
    }
   }
  },
  {
   "cell_type": "markdown",
   "source": [
    "\n",
    "### Комбинированный метод Брента\n"
   ],
   "metadata": {
    "collapsed": false
   }
  },
  {
   "cell_type": "code",
   "execution_count": 97,
   "outputs": [],
   "source": [
    "def brent_minimization(left, right, eps, func):\n",
    "    x = w = v = (left + right) / 2\n",
    "    f_x = f_w = f_v = func(x)\n",
    "    calls = 1\n",
    "    d = e = right - left\n",
    "    is_parabola: bool\n",
    "    u: float\n",
    "\n",
    "    while d > eps:\n",
    "        is_parabola = False\n",
    "        g = e\n",
    "        e = d\n",
    "        if not (x == w or x == v or w == v or f_x == f_w or f_x == f_v or f_v == f_w):\n",
    "            u = w - (((w - x)**2) * (f_w - f_v) - ((w - v)**2) * (f_w - f_x)) / (2 * ((w - x) * (f_w - f_v) - (w - v) * (f_w - f_x)))\n",
    "            if left + eps <= u <= right - eps and abs(u - x) < g / 2:\n",
    "                is_parabola = True\n",
    "                d = abs(u - x)\n",
    "        if not is_parabola:\n",
    "            if x < (right - left) / 2:\n",
    "                u = x + K * (right - x)\n",
    "                d = right - x\n",
    "            else:\n",
    "                u = x - K * (x - left)\n",
    "                d = x - left\n",
    "            if abs(u - x) < eps:\n",
    "                u = x + np.sign(u - x) * eps\n",
    "        f_u = func(u)\n",
    "        calls += 1\n",
    "        if f_u <= f_x:\n",
    "            if u >= x:\n",
    "                left = x\n",
    "            else:\n",
    "                right = x\n",
    "            v = w\n",
    "            w = x\n",
    "            x = u\n",
    "            f_v = f_w\n",
    "            f_w = f_x\n",
    "            f_x = f_u\n",
    "        else:\n",
    "            if u >= x:\n",
    "                right = u\n",
    "            else:\n",
    "                left = u\n",
    "            if f_u <= f_w or w == x:\n",
    "                v = w\n",
    "                w = u\n",
    "                f_v = f_w\n",
    "                f_w = f_u\n",
    "            elif f_u <= f_v or v == x or v == w:\n",
    "                v = u\n",
    "                f_v = f_u\n",
    "    return x, calls"
   ],
   "metadata": {
    "collapsed": false,
    "ExecuteTime": {
     "start_time": "2023-04-12T18:38:48.882089Z",
     "end_time": "2023-04-12T18:38:48.914544Z"
    }
   }
  },
  {
   "cell_type": "code",
   "execution_count": 105,
   "outputs": [
    {
     "name": "stdout",
     "output_type": "stream",
     "text": [
      "0.0\n"
     ]
    }
   ],
   "source": [
    "s, _ = brent_minimization(a, b, eps, function)\n",
    "print(s)"
   ],
   "metadata": {
    "collapsed": false,
    "ExecuteTime": {
     "start_time": "2023-04-12T19:56:35.100475Z",
     "end_time": "2023-04-12T19:56:35.120027Z"
    }
   }
  }
 ],
 "metadata": {
  "kernelspec": {
   "display_name": "Python 3",
   "language": "python",
   "name": "python3"
  },
  "language_info": {
   "codemirror_mode": {
    "name": "ipython",
    "version": 2
   },
   "file_extension": ".py",
   "mimetype": "text/x-python",
   "name": "python",
   "nbconvert_exporter": "python",
   "pygments_lexer": "ipython2",
   "version": "2.7.6"
  }
 },
 "nbformat": 4,
 "nbformat_minor": 0
}
