{
 "cells": [
  {
   "cell_type": "code",
   "execution_count": 3,
   "metadata": {
    "collapsed": true,
    "ExecuteTime": {
     "start_time": "2023-04-13T13:37:49.800566Z",
     "end_time": "2023-04-13T13:37:49.925723Z"
    }
   },
   "outputs": [],
   "source": [
    "import matplotlib.pyplot as plt\n",
    "import numpy as np\n",
    "import pandas as pd"
   ]
  },
  {
   "cell_type": "code",
   "execution_count": 4,
   "outputs": [],
   "source": [
    "'''\n",
    "Константа золотого сечения\n",
    "'''\n",
    "K = (3 - np.sqrt(5)) / 2"
   ],
   "metadata": {
    "collapsed": false,
    "ExecuteTime": {
     "start_time": "2023-04-13T13:37:49.816186Z",
     "end_time": "2023-04-13T13:37:49.925723Z"
    }
   }
  },
  {
   "cell_type": "code",
   "execution_count": 24,
   "outputs": [],
   "source": [
    "'''\n",
    "Заданная функция и отрезок минимизации с точностью минимизации\n",
    "'''\n",
    "def function(x):\n",
    "    return np.sin(x) * x**3\n",
    "\n",
    "a = -3\n",
    "b = 1\n",
    "eps = 0.001"
   ],
   "metadata": {
    "collapsed": false,
    "ExecuteTime": {
     "start_time": "2023-04-13T13:54:31.430463Z",
     "end_time": "2023-04-13T13:54:31.451341Z"
    }
   }
  },
  {
   "cell_type": "markdown",
   "source": [
    "\n",
    "### Метод парабол\n"
   ],
   "metadata": {
    "collapsed": false
   }
  },
  {
   "cell_type": "code",
   "execution_count": 27,
   "outputs": [],
   "source": [
    "def parabola_minimization(left, right, eps, func):\n",
    "    mid = (left + right) / 2\n",
    "    f_left = func(left)\n",
    "    f_right = func(right)\n",
    "    calls = 2\n",
    "    parabola_segments.loc[len(parabola_segments)] = [left, right, right - left]\n",
    "\n",
    "    while right - left > eps:\n",
    "        mid = (left + right) / 2\n",
    "        f_mid = func(mid)\n",
    "        calls += 1\n",
    "\n",
    "        dividend = (((mid - left)**2) * (f_mid - f_right) - ((mid - right)**2) * (f_mid - f_left))\n",
    "        divisor = (2 * ((mid - left) * (f_mid - f_right) - (mid - right) * (f_mid - f_left)))\n",
    "\n",
    "        u = mid - np.divide(dividend, divisor)\n",
    "        f_u = func(u)\n",
    "        calls += 1\n",
    "\n",
    "        if mid >= u:\n",
    "            if f_mid < f_u:\n",
    "                left = u\n",
    "                f_left = f_u\n",
    "            else:\n",
    "                right = mid\n",
    "                f_right = f_mid\n",
    "\n",
    "        if mid < u:\n",
    "            if f_mid < f_u:\n",
    "                right = u\n",
    "                f_right = f_u\n",
    "            else:\n",
    "                left = mid\n",
    "                f_left = f_mid\n",
    "        parabola_segments.loc[len(parabola_segments)] = [left, right, right - left]\n",
    "    return mid, calls"
   ],
   "metadata": {
    "collapsed": false,
    "ExecuteTime": {
     "start_time": "2023-04-13T13:57:01.568773Z",
     "end_time": "2023-04-13T13:57:01.587181Z"
    }
   }
  },
  {
   "cell_type": "code",
   "execution_count": 28,
   "outputs": [
    {
     "name": "stderr",
     "output_type": "stream",
     "text": [
      "C:\\Users\\moroz\\AppData\\Local\\Temp\\ipykernel_11608\\2502660420.py:17: RuntimeWarning: invalid value encountered in true_divide\n",
      "  u = mid - np.divide(dividend, divisor)\n"
     ]
    },
    {
     "ename": "KeyboardInterrupt",
     "evalue": "",
     "output_type": "error",
     "traceback": [
      "\u001B[1;31m---------------------------------------------------------------------------\u001B[0m",
      "\u001B[1;31mKeyboardInterrupt\u001B[0m                         Traceback (most recent call last)",
      "\u001B[1;32m~\\AppData\\Local\\Temp\\ipykernel_11608\\1431704804.py\u001B[0m in \u001B[0;36m<module>\u001B[1;34m\u001B[0m\n\u001B[0;32m      1\u001B[0m \u001B[0mparabola_segments\u001B[0m \u001B[1;33m=\u001B[0m \u001B[0mpd\u001B[0m\u001B[1;33m.\u001B[0m\u001B[0mDataFrame\u001B[0m\u001B[1;33m(\u001B[0m\u001B[1;33m{\u001B[0m\u001B[1;34m\"left\"\u001B[0m\u001B[1;33m:\u001B[0m \u001B[1;33m[\u001B[0m\u001B[1;33m]\u001B[0m\u001B[1;33m,\u001B[0m \u001B[1;34m\"right\"\u001B[0m\u001B[1;33m:\u001B[0m \u001B[1;33m[\u001B[0m\u001B[1;33m]\u001B[0m\u001B[1;33m,\u001B[0m \u001B[1;34m\"length\"\u001B[0m\u001B[1;33m:\u001B[0m \u001B[1;33m[\u001B[0m\u001B[1;33m]\u001B[0m\u001B[1;33m}\u001B[0m\u001B[1;33m)\u001B[0m\u001B[1;33m\u001B[0m\u001B[1;33m\u001B[0m\u001B[0m\n\u001B[0;32m      2\u001B[0m \u001B[0mparabola_segments\u001B[0m\u001B[1;33m.\u001B[0m\u001B[0mindex\u001B[0m\u001B[1;33m.\u001B[0m\u001B[0mname\u001B[0m \u001B[1;33m=\u001B[0m \u001B[1;34m\"iteration\"\u001B[0m\u001B[1;33m\u001B[0m\u001B[1;33m\u001B[0m\u001B[0m\n\u001B[1;32m----> 3\u001B[1;33m \u001B[0mprint\u001B[0m\u001B[1;33m(\u001B[0m\u001B[0mparabola_minimization\u001B[0m\u001B[1;33m(\u001B[0m\u001B[0ma\u001B[0m\u001B[1;33m,\u001B[0m \u001B[0mb\u001B[0m\u001B[1;33m,\u001B[0m \u001B[0meps\u001B[0m\u001B[1;33m,\u001B[0m \u001B[0mfunction\u001B[0m\u001B[1;33m)\u001B[0m\u001B[1;33m)\u001B[0m\u001B[1;33m\u001B[0m\u001B[1;33m\u001B[0m\u001B[0m\n\u001B[0m\u001B[0;32m      4\u001B[0m \u001B[0mparabola_segments\u001B[0m\u001B[1;33m\u001B[0m\u001B[1;33m\u001B[0m\u001B[0m\n",
      "\u001B[1;32m~\\AppData\\Local\\Temp\\ipykernel_11608\\2502660420.py\u001B[0m in \u001B[0;36mparabola_minimization\u001B[1;34m(left, right, eps, func)\u001B[0m\n\u001B[0;32m     34\u001B[0m                 \u001B[0mleft\u001B[0m \u001B[1;33m=\u001B[0m \u001B[0mmid\u001B[0m\u001B[1;33m\u001B[0m\u001B[1;33m\u001B[0m\u001B[0m\n\u001B[0;32m     35\u001B[0m                 \u001B[0mf_left\u001B[0m \u001B[1;33m=\u001B[0m \u001B[0mf_mid\u001B[0m\u001B[1;33m\u001B[0m\u001B[1;33m\u001B[0m\u001B[0m\n\u001B[1;32m---> 36\u001B[1;33m         \u001B[0mparabola_segments\u001B[0m\u001B[1;33m.\u001B[0m\u001B[0mloc\u001B[0m\u001B[1;33m[\u001B[0m\u001B[0mlen\u001B[0m\u001B[1;33m(\u001B[0m\u001B[0mparabola_segments\u001B[0m\u001B[1;33m)\u001B[0m\u001B[1;33m]\u001B[0m \u001B[1;33m=\u001B[0m \u001B[1;33m[\u001B[0m\u001B[0mleft\u001B[0m\u001B[1;33m,\u001B[0m \u001B[0mright\u001B[0m\u001B[1;33m,\u001B[0m \u001B[0mright\u001B[0m \u001B[1;33m-\u001B[0m \u001B[0mleft\u001B[0m\u001B[1;33m]\u001B[0m\u001B[1;33m\u001B[0m\u001B[1;33m\u001B[0m\u001B[0m\n\u001B[0m\u001B[0;32m     37\u001B[0m     \u001B[1;32mreturn\u001B[0m \u001B[0mmid\u001B[0m\u001B[1;33m,\u001B[0m \u001B[0mcalls\u001B[0m\u001B[1;33m\u001B[0m\u001B[1;33m\u001B[0m\u001B[0m\n",
      "\u001B[1;32m~\\anaconda3\\lib\\site-packages\\pandas\\core\\indexing.py\u001B[0m in \u001B[0;36m__setitem__\u001B[1;34m(self, key, value)\u001B[0m\n\u001B[0;32m    714\u001B[0m \u001B[1;33m\u001B[0m\u001B[0m\n\u001B[0;32m    715\u001B[0m         \u001B[0miloc\u001B[0m \u001B[1;33m=\u001B[0m \u001B[0mself\u001B[0m \u001B[1;32mif\u001B[0m \u001B[0mself\u001B[0m\u001B[1;33m.\u001B[0m\u001B[0mname\u001B[0m \u001B[1;33m==\u001B[0m \u001B[1;34m\"iloc\"\u001B[0m \u001B[1;32melse\u001B[0m \u001B[0mself\u001B[0m\u001B[1;33m.\u001B[0m\u001B[0mobj\u001B[0m\u001B[1;33m.\u001B[0m\u001B[0miloc\u001B[0m\u001B[1;33m\u001B[0m\u001B[1;33m\u001B[0m\u001B[0m\n\u001B[1;32m--> 716\u001B[1;33m         \u001B[0miloc\u001B[0m\u001B[1;33m.\u001B[0m\u001B[0m_setitem_with_indexer\u001B[0m\u001B[1;33m(\u001B[0m\u001B[0mindexer\u001B[0m\u001B[1;33m,\u001B[0m \u001B[0mvalue\u001B[0m\u001B[1;33m,\u001B[0m \u001B[0mself\u001B[0m\u001B[1;33m.\u001B[0m\u001B[0mname\u001B[0m\u001B[1;33m)\u001B[0m\u001B[1;33m\u001B[0m\u001B[1;33m\u001B[0m\u001B[0m\n\u001B[0m\u001B[0;32m    717\u001B[0m \u001B[1;33m\u001B[0m\u001B[0m\n\u001B[0;32m    718\u001B[0m     \u001B[1;32mdef\u001B[0m \u001B[0m_validate_key\u001B[0m\u001B[1;33m(\u001B[0m\u001B[0mself\u001B[0m\u001B[1;33m,\u001B[0m \u001B[0mkey\u001B[0m\u001B[1;33m,\u001B[0m \u001B[0maxis\u001B[0m\u001B[1;33m:\u001B[0m \u001B[0mint\u001B[0m\u001B[1;33m)\u001B[0m\u001B[1;33m:\u001B[0m\u001B[1;33m\u001B[0m\u001B[1;33m\u001B[0m\u001B[0m\n",
      "\u001B[1;32m~\\anaconda3\\lib\\site-packages\\pandas\\core\\indexing.py\u001B[0m in \u001B[0;36m_setitem_with_indexer\u001B[1;34m(self, indexer, value, name)\u001B[0m\n\u001B[0;32m   1683\u001B[0m \u001B[1;33m\u001B[0m\u001B[0m\n\u001B[0;32m   1684\u001B[0m             \u001B[1;32mif\u001B[0m \u001B[0mmissing\u001B[0m\u001B[1;33m:\u001B[0m\u001B[1;33m\u001B[0m\u001B[1;33m\u001B[0m\u001B[0m\n\u001B[1;32m-> 1685\u001B[1;33m                 \u001B[0mself\u001B[0m\u001B[1;33m.\u001B[0m\u001B[0m_setitem_with_indexer_missing\u001B[0m\u001B[1;33m(\u001B[0m\u001B[0mindexer\u001B[0m\u001B[1;33m,\u001B[0m \u001B[0mvalue\u001B[0m\u001B[1;33m)\u001B[0m\u001B[1;33m\u001B[0m\u001B[1;33m\u001B[0m\u001B[0m\n\u001B[0m\u001B[0;32m   1686\u001B[0m                 \u001B[1;32mreturn\u001B[0m\u001B[1;33m\u001B[0m\u001B[1;33m\u001B[0m\u001B[0m\n\u001B[0;32m   1687\u001B[0m \u001B[1;33m\u001B[0m\u001B[0m\n",
      "\u001B[1;32m~\\anaconda3\\lib\\site-packages\\pandas\\core\\indexing.py\u001B[0m in \u001B[0;36m_setitem_with_indexer_missing\u001B[1;34m(self, indexer, value)\u001B[0m\n\u001B[0;32m   2023\u001B[0m                 \u001B[0mself\u001B[0m\u001B[1;33m.\u001B[0m\u001B[0mobj\u001B[0m\u001B[1;33m.\u001B[0m\u001B[0m_mgr\u001B[0m \u001B[1;33m=\u001B[0m \u001B[0mdf\u001B[0m\u001B[1;33m.\u001B[0m\u001B[0m_mgr\u001B[0m\u001B[1;33m\u001B[0m\u001B[1;33m\u001B[0m\u001B[0m\n\u001B[0;32m   2024\u001B[0m             \u001B[1;32melse\u001B[0m\u001B[1;33m:\u001B[0m\u001B[1;33m\u001B[0m\u001B[1;33m\u001B[0m\u001B[0m\n\u001B[1;32m-> 2025\u001B[1;33m                 \u001B[0mself\u001B[0m\u001B[1;33m.\u001B[0m\u001B[0mobj\u001B[0m\u001B[1;33m.\u001B[0m\u001B[0m_mgr\u001B[0m \u001B[1;33m=\u001B[0m \u001B[0mself\u001B[0m\u001B[1;33m.\u001B[0m\u001B[0mobj\u001B[0m\u001B[1;33m.\u001B[0m\u001B[0m_append\u001B[0m\u001B[1;33m(\u001B[0m\u001B[0mvalue\u001B[0m\u001B[1;33m)\u001B[0m\u001B[1;33m.\u001B[0m\u001B[0m_mgr\u001B[0m\u001B[1;33m\u001B[0m\u001B[1;33m\u001B[0m\u001B[0m\n\u001B[0m\u001B[0;32m   2026\u001B[0m             \u001B[0mself\u001B[0m\u001B[1;33m.\u001B[0m\u001B[0mobj\u001B[0m\u001B[1;33m.\u001B[0m\u001B[0m_maybe_update_cacher\u001B[0m\u001B[1;33m(\u001B[0m\u001B[0mclear\u001B[0m\u001B[1;33m=\u001B[0m\u001B[1;32mTrue\u001B[0m\u001B[1;33m)\u001B[0m\u001B[1;33m\u001B[0m\u001B[1;33m\u001B[0m\u001B[0m\n\u001B[0;32m   2027\u001B[0m \u001B[1;33m\u001B[0m\u001B[0m\n",
      "\u001B[1;32m~\\anaconda3\\lib\\site-packages\\pandas\\core\\frame.py\u001B[0m in \u001B[0;36m_append\u001B[1;34m(self, other, ignore_index, verify_integrity, sort)\u001B[0m\n\u001B[0;32m   9089\u001B[0m             \u001B[0mto_concat\u001B[0m \u001B[1;33m=\u001B[0m \u001B[1;33m[\u001B[0m\u001B[0mself\u001B[0m\u001B[1;33m,\u001B[0m \u001B[0mother\u001B[0m\u001B[1;33m]\u001B[0m\u001B[1;33m\u001B[0m\u001B[1;33m\u001B[0m\u001B[0m\n\u001B[0;32m   9090\u001B[0m \u001B[1;33m\u001B[0m\u001B[0m\n\u001B[1;32m-> 9091\u001B[1;33m         result = concat(\n\u001B[0m\u001B[0;32m   9092\u001B[0m             \u001B[0mto_concat\u001B[0m\u001B[1;33m,\u001B[0m\u001B[1;33m\u001B[0m\u001B[1;33m\u001B[0m\u001B[0m\n\u001B[0;32m   9093\u001B[0m             \u001B[0mignore_index\u001B[0m\u001B[1;33m=\u001B[0m\u001B[0mignore_index\u001B[0m\u001B[1;33m,\u001B[0m\u001B[1;33m\u001B[0m\u001B[1;33m\u001B[0m\u001B[0m\n",
      "\u001B[1;32m~\\anaconda3\\lib\\site-packages\\pandas\\util\\_decorators.py\u001B[0m in \u001B[0;36mwrapper\u001B[1;34m(*args, **kwargs)\u001B[0m\n\u001B[0;32m    309\u001B[0m                     \u001B[0mstacklevel\u001B[0m\u001B[1;33m=\u001B[0m\u001B[0mstacklevel\u001B[0m\u001B[1;33m,\u001B[0m\u001B[1;33m\u001B[0m\u001B[1;33m\u001B[0m\u001B[0m\n\u001B[0;32m    310\u001B[0m                 )\n\u001B[1;32m--> 311\u001B[1;33m             \u001B[1;32mreturn\u001B[0m \u001B[0mfunc\u001B[0m\u001B[1;33m(\u001B[0m\u001B[1;33m*\u001B[0m\u001B[0margs\u001B[0m\u001B[1;33m,\u001B[0m \u001B[1;33m**\u001B[0m\u001B[0mkwargs\u001B[0m\u001B[1;33m)\u001B[0m\u001B[1;33m\u001B[0m\u001B[1;33m\u001B[0m\u001B[0m\n\u001B[0m\u001B[0;32m    312\u001B[0m \u001B[1;33m\u001B[0m\u001B[0m\n\u001B[0;32m    313\u001B[0m         \u001B[1;32mreturn\u001B[0m \u001B[0mwrapper\u001B[0m\u001B[1;33m\u001B[0m\u001B[1;33m\u001B[0m\u001B[0m\n",
      "\u001B[1;32m~\\anaconda3\\lib\\site-packages\\pandas\\core\\reshape\\concat.py\u001B[0m in \u001B[0;36mconcat\u001B[1;34m(objs, axis, join, ignore_index, keys, levels, names, verify_integrity, sort, copy)\u001B[0m\n\u001B[0;32m    358\u001B[0m     )\n\u001B[0;32m    359\u001B[0m \u001B[1;33m\u001B[0m\u001B[0m\n\u001B[1;32m--> 360\u001B[1;33m     \u001B[1;32mreturn\u001B[0m \u001B[0mop\u001B[0m\u001B[1;33m.\u001B[0m\u001B[0mget_result\u001B[0m\u001B[1;33m(\u001B[0m\u001B[1;33m)\u001B[0m\u001B[1;33m\u001B[0m\u001B[1;33m\u001B[0m\u001B[0m\n\u001B[0m\u001B[0;32m    361\u001B[0m \u001B[1;33m\u001B[0m\u001B[0m\n\u001B[0;32m    362\u001B[0m \u001B[1;33m\u001B[0m\u001B[0m\n",
      "\u001B[1;32m~\\anaconda3\\lib\\site-packages\\pandas\\core\\reshape\\concat.py\u001B[0m in \u001B[0;36mget_result\u001B[1;34m(self)\u001B[0m\n\u001B[0;32m    593\u001B[0m                 \u001B[0mmgrs_indexers\u001B[0m\u001B[1;33m.\u001B[0m\u001B[0mappend\u001B[0m\u001B[1;33m(\u001B[0m\u001B[1;33m(\u001B[0m\u001B[0mobj\u001B[0m\u001B[1;33m.\u001B[0m\u001B[0m_mgr\u001B[0m\u001B[1;33m,\u001B[0m \u001B[0mindexers\u001B[0m\u001B[1;33m)\u001B[0m\u001B[1;33m)\u001B[0m\u001B[1;33m\u001B[0m\u001B[1;33m\u001B[0m\u001B[0m\n\u001B[0;32m    594\u001B[0m \u001B[1;33m\u001B[0m\u001B[0m\n\u001B[1;32m--> 595\u001B[1;33m             new_data = concatenate_managers(\n\u001B[0m\u001B[0;32m    596\u001B[0m                 \u001B[0mmgrs_indexers\u001B[0m\u001B[1;33m,\u001B[0m \u001B[0mself\u001B[0m\u001B[1;33m.\u001B[0m\u001B[0mnew_axes\u001B[0m\u001B[1;33m,\u001B[0m \u001B[0mconcat_axis\u001B[0m\u001B[1;33m=\u001B[0m\u001B[0mself\u001B[0m\u001B[1;33m.\u001B[0m\u001B[0mbm_axis\u001B[0m\u001B[1;33m,\u001B[0m \u001B[0mcopy\u001B[0m\u001B[1;33m=\u001B[0m\u001B[0mself\u001B[0m\u001B[1;33m.\u001B[0m\u001B[0mcopy\u001B[0m\u001B[1;33m\u001B[0m\u001B[1;33m\u001B[0m\u001B[0m\n\u001B[0;32m    597\u001B[0m             )\n",
      "\u001B[1;32m~\\anaconda3\\lib\\site-packages\\pandas\\core\\internals\\concat.py\u001B[0m in \u001B[0;36mconcatenate_managers\u001B[1;34m(mgrs_indexers, axes, concat_axis, copy)\u001B[0m\n\u001B[0;32m    230\u001B[0m                 \u001B[1;31m#  we can use np.concatenate, which is more performant\u001B[0m\u001B[1;33m\u001B[0m\u001B[1;33m\u001B[0m\u001B[0m\n\u001B[0;32m    231\u001B[0m                 \u001B[1;31m#  than concat_compat\u001B[0m\u001B[1;33m\u001B[0m\u001B[1;33m\u001B[0m\u001B[0m\n\u001B[1;32m--> 232\u001B[1;33m                 \u001B[0mvalues\u001B[0m \u001B[1;33m=\u001B[0m \u001B[0mnp\u001B[0m\u001B[1;33m.\u001B[0m\u001B[0mconcatenate\u001B[0m\u001B[1;33m(\u001B[0m\u001B[0mvals\u001B[0m\u001B[1;33m,\u001B[0m \u001B[0maxis\u001B[0m\u001B[1;33m=\u001B[0m\u001B[1;36m1\u001B[0m\u001B[1;33m)\u001B[0m\u001B[1;33m\u001B[0m\u001B[1;33m\u001B[0m\u001B[0m\n\u001B[0m\u001B[0;32m    233\u001B[0m             \u001B[1;32melse\u001B[0m\u001B[1;33m:\u001B[0m\u001B[1;33m\u001B[0m\u001B[1;33m\u001B[0m\u001B[0m\n\u001B[0;32m    234\u001B[0m                 \u001B[1;31m# TODO(EA2D): special-casing not needed with 2D EAs\u001B[0m\u001B[1;33m\u001B[0m\u001B[1;33m\u001B[0m\u001B[0m\n",
      "\u001B[1;32m<__array_function__ internals>\u001B[0m in \u001B[0;36mconcatenate\u001B[1;34m(*args, **kwargs)\u001B[0m\n",
      "\u001B[1;31mKeyboardInterrupt\u001B[0m: "
     ]
    }
   ],
   "source": [
    "parabola_segments = pd.DataFrame({\"left\": [], \"right\": [], \"length\": []})\n",
    "parabola_segments.index.name = \"iteration\"\n",
    "print(parabola_minimization(a, b, eps, function))\n",
    "parabola_segments"
   ],
   "metadata": {
    "collapsed": false,
    "ExecuteTime": {
     "start_time": "2023-04-13T13:54:35.171912Z",
     "end_time": "2023-04-13T13:54:35.227805Z"
    }
   }
  },
  {
   "cell_type": "markdown",
   "source": [
    "\n",
    "### Комбинированный метод Брента\n"
   ],
   "metadata": {
    "collapsed": false
   }
  },
  {
   "cell_type": "code",
   "execution_count": 14,
   "outputs": [],
   "source": [
    "def brent_minimization(left, right, eps, func):\n",
    "    x = w = v = (left + right) / 2\n",
    "    f_x = f_w = f_v = func(x)\n",
    "    calls = 1\n",
    "    d = e = right - left\n",
    "    is_parabola: bool\n",
    "    u: float\n",
    "    brent_segments.loc[len(brent_segments)] = [left, right, right - left]\n",
    "\n",
    "    while d > eps:\n",
    "        is_parabola = False\n",
    "        g = e\n",
    "        e = d\n",
    "        if not (x == w or x == v or w == v or f_x == f_w or f_x == f_v or f_v == f_w):\n",
    "            u = w - (((w - x)**2) * (f_w - f_v) - ((w - v)**2) * (f_w - f_x)) / (2 * ((w - x) * (f_w - f_v) - (w - v) * (f_w - f_x)))\n",
    "            if left + eps <= u <= right - eps and abs(u - x) < g / 2:\n",
    "                is_parabola = True\n",
    "                d = abs(u - x)\n",
    "        if not is_parabola:\n",
    "            if x < (right - left) / 2:\n",
    "                u = x + K * (right - x)\n",
    "                d = right - x\n",
    "            else:\n",
    "                u = x - K * (x - left)\n",
    "                d = x - left\n",
    "            if abs(u - x) < eps:\n",
    "                u = x + np.sign(u - x) * eps\n",
    "        f_u = func(u)\n",
    "        calls += 1\n",
    "        if f_u <= f_x:\n",
    "            if u >= x:\n",
    "                left = x\n",
    "            else:\n",
    "                right = x\n",
    "            v = w\n",
    "            w = x\n",
    "            x = u\n",
    "            f_v = f_w\n",
    "            f_w = f_x\n",
    "            f_x = f_u\n",
    "        else:\n",
    "            if u >= x:\n",
    "                right = u\n",
    "            else:\n",
    "                left = u\n",
    "            if f_u <= f_w or w == x:\n",
    "                v = w\n",
    "                w = u\n",
    "                f_v = f_w\n",
    "                f_w = f_u\n",
    "            elif f_u <= f_v or v == x or v == w:\n",
    "                v = u\n",
    "                f_v = f_u\n",
    "        brent_segments.loc[len(brent_segments)] = [left, right, right - left]\n",
    "    return x, calls"
   ],
   "metadata": {
    "collapsed": false,
    "ExecuteTime": {
     "start_time": "2023-04-13T13:44:29.383449Z",
     "end_time": "2023-04-13T13:44:29.414871Z"
    }
   }
  },
  {
   "cell_type": "code",
   "execution_count": 26,
   "outputs": [
    {
     "name": "stdout",
     "output_type": "stream",
     "text": [
      "(8.326672684688674e-17, 5)\n"
     ]
    },
    {
     "data": {
      "text/plain": "                   left     right    length\niteration                                  \n0         -3.000000e+00  1.000000  4.000000\n1         -1.000000e+00  1.000000  2.000000\n2         -2.360680e-01  1.000000  1.236068\n3         -2.360680e-01  0.236068  0.472136\n4         -1.110223e-16  0.236068  0.236068",
      "text/html": "<div>\n<style scoped>\n    .dataframe tbody tr th:only-of-type {\n        vertical-align: middle;\n    }\n\n    .dataframe tbody tr th {\n        vertical-align: top;\n    }\n\n    .dataframe thead th {\n        text-align: right;\n    }\n</style>\n<table border=\"1\" class=\"dataframe\">\n  <thead>\n    <tr style=\"text-align: right;\">\n      <th></th>\n      <th>left</th>\n      <th>right</th>\n      <th>length</th>\n    </tr>\n    <tr>\n      <th>iteration</th>\n      <th></th>\n      <th></th>\n      <th></th>\n    </tr>\n  </thead>\n  <tbody>\n    <tr>\n      <th>0</th>\n      <td>-3.000000e+00</td>\n      <td>1.000000</td>\n      <td>4.000000</td>\n    </tr>\n    <tr>\n      <th>1</th>\n      <td>-1.000000e+00</td>\n      <td>1.000000</td>\n      <td>2.000000</td>\n    </tr>\n    <tr>\n      <th>2</th>\n      <td>-2.360680e-01</td>\n      <td>1.000000</td>\n      <td>1.236068</td>\n    </tr>\n    <tr>\n      <th>3</th>\n      <td>-2.360680e-01</td>\n      <td>0.236068</td>\n      <td>0.472136</td>\n    </tr>\n    <tr>\n      <th>4</th>\n      <td>-1.110223e-16</td>\n      <td>0.236068</td>\n      <td>0.236068</td>\n    </tr>\n  </tbody>\n</table>\n</div>"
     },
     "execution_count": 26,
     "metadata": {},
     "output_type": "execute_result"
    }
   ],
   "source": [
    "brent_segments = pd.DataFrame({\"left\": [], \"right\": [], \"length\": []})\n",
    "brent_segments.index.name = \"iteration\"\n",
    "print(brent_minimization(a, b, eps, function))\n",
    "brent_segments"
   ],
   "metadata": {
    "collapsed": false,
    "ExecuteTime": {
     "start_time": "2023-04-13T13:55:34.267428Z",
     "end_time": "2023-04-13T13:55:34.309291Z"
    }
   }
  }
 ],
 "metadata": {
  "kernelspec": {
   "display_name": "Python 3",
   "language": "python",
   "name": "python3"
  },
  "language_info": {
   "codemirror_mode": {
    "name": "ipython",
    "version": 2
   },
   "file_extension": ".py",
   "mimetype": "text/x-python",
   "name": "python",
   "nbconvert_exporter": "python",
   "pygments_lexer": "ipython2",
   "version": "2.7.6"
  }
 },
 "nbformat": 4,
 "nbformat_minor": 0
}
