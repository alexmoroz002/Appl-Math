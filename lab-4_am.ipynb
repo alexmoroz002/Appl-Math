{
 "cells": [
  {
   "cell_type": "code",
   "execution_count": 9,
   "metadata": {},
   "outputs": [],
   "source": [
    "import matplotlib as mlt\n",
    "import matplotlib.pyplot as plt\n",
    "import numpy as np\n",
    "import pandas as pd\n",
    "import scipy.sparse as sparse\n",
    "from random import choice"
   ]
  },
  {
   "cell_type": "code",
   "execution_count": 246,
   "metadata": {},
   "outputs": [],
   "source": [
    "def seidel(A, b, eps, x=None):\n",
    "    L_inv = np.linalg.inv(np.tril(A))\n",
    "    U = np.triu(A, 1)\n",
    "    if x is None:\n",
    "        x = np.zeros(b.shape[0])\n",
    "\n",
    "    while np.linalg.norm(A @ x - b) > eps:\n",
    "        x = L_inv @ (b - U @ x)\n",
    "    return x"
   ]
  },
  {
   "cell_type": "code",
   "execution_count": 247,
   "metadata": {},
   "outputs": [],
   "source": [
    "def gen_matrix(n, k):\n",
    "    a = np.zeros((n, n))\n",
    "    pos_ij = [0, -1, -2, -3, -4]\n",
    "    for i in range(n):\n",
    "        for j in range(n):\n",
    "            if i == j: continue\n",
    "            a[i, j] = choice(pos_ij)\n",
    "        a[i, i] = -np.sum(a[i]) if i > 0 else -np.sum(a[i]) + 10**(-k)\n",
    "    return a"
   ]
  },
  {
   "cell_type": "code",
   "execution_count": 262,
   "metadata": {},
   "outputs": [],
   "source": [
    "def gen_hilbert(n):\n",
    "    a = np.zeros((n, n))\n",
    "    for i in range(n):\n",
    "        for j in range(n):\n",
    "            a[i, j] = 1 / (i + j + 1)\n",
    "    return a"
   ]
  },
  {
   "cell_type": "code",
   "execution_count": 248,
   "metadata": {},
   "outputs": [
    {
     "data": {
      "text/plain": [
       "array([ 0.81218278, -0.66497459])"
      ]
     },
     "execution_count": 248,
     "metadata": {},
     "output_type": "execute_result"
    }
   ],
   "source": [
    "A = np.array(np.mat('16 3; 7 -11'))\n",
    "b = np.array([11, 13]).T\n",
    "\n",
    "seidel(A, b, 0.000001)"
   ]
  },
  {
   "cell_type": "code",
   "execution_count": 249,
   "metadata": {},
   "outputs": [
    {
     "name": "stdout",
     "output_type": "stream",
     "text": [
      "[ 0.92384882  1.92344163  2.9234462   3.92344571  4.92344742  5.92344401\n",
      "  6.92344902  7.92344432  8.9234489   9.92345317 10.92345051 11.92344962\n",
      " 12.92344875 13.92344799 14.92345091 15.92344713 16.92344501 17.92344304\n",
      " 18.9234449  19.92344286 20.92344526 21.92344368 22.92344999 23.92344392\n",
      " 24.92344986 25.92345153 26.92344724 27.9234472  28.92344365 29.92345008\n",
      " 30.9234512  31.92345057 32.92345075 33.92344729 34.92345319 35.92345276\n",
      " 36.92344458 37.92345268 38.92344703 39.92344898 40.92344713 41.92344981\n",
      " 42.92344945 43.92345287 44.92345202 45.92345221 46.9234516  47.92344998\n",
      " 48.92344588 49.92344842 50.92345315 51.92345324 52.92344833 53.92345217\n",
      " 54.92345254 55.92345002 56.92344856 57.92345041 58.92345509 59.9234485\n",
      " 60.92345076 61.92345104 62.9234466  63.92344899 64.92344705 65.92344915\n",
      " 66.92344723 67.92344921 68.92345591 69.92345186 70.92345179 71.92344766\n",
      " 72.9234523  73.92345317 74.92345369 75.92345412 76.92345453 77.92345238\n",
      " 78.92345586 79.92345319 80.92345495 81.92345582 82.92345657 83.92345401\n",
      " 84.92345366 85.92345666 86.92345375 87.92345385 88.92345406 89.923449\n",
      " 90.9234574  91.92344972 92.92345703 93.92345363 94.92345019 95.92345673\n",
      " 96.92345344 97.92345667 98.92345476 99.92344991]\n"
     ]
    }
   ],
   "source": [
    "size = 100\n",
    "A_k = gen_matrix(size, 0.0001)\n",
    "F_k = A_k @ np.arange(1, A_k.shape[0] + 1).T\n",
    "if np.linalg.matrix_rank(A_k) == size:\n",
    "    print(seidel(A_k, F_k, 0.01))\n",
    "else:\n",
    "    print('Singular!')"
   ]
  },
  {
   "cell_type": "code",
   "execution_count": 300,
   "metadata": {},
   "outputs": [
    {
     "name": "stdout",
     "output_type": "stream",
     "text": [
      "[ -1.49352054  29.7226227  -45.60114247 -16.90738125  21.4046998\n",
      "  38.83577694  38.90079144  30.00266732  18.37809683   7.56483915\n",
      "  -0.81698193  -6.28984668  -8.98139112  -9.29613006  -7.72970247\n",
      "  -4.77120473  -0.85705909   3.64627986   8.44429364  13.30884953\n",
      "  18.06951003  22.60406573  26.82949288  30.69388092  34.16951401\n",
      "  37.24710286  39.93107104  42.23576419  44.18244239  45.79692405\n",
      "  47.10776327  48.14485902  48.93841049  49.51814758  49.9127783\n",
      "  50.14960583  50.25427721  50.25063304  50.1606342   50.00434589\n",
      "  49.79996426  49.56387358  49.31072453  49.05352662  48.80374931\n",
      "  48.57142728  48.36526715  48.19275295  48.06024891  47.97309817\n",
      "  47.93571685  47.95168271  48.02381845  48.15426911  48.34457412\n",
      "  48.59573374  48.90827012  49.28228349  49.71750333  50.21333515\n",
      "  50.76890304  51.38308813  52.0545636   52.78182604  53.56322397\n",
      "  54.3969832   55.28122985  56.2140106   57.1933111   58.2170722\n",
      "  59.28320416  60.38959964  61.53414476  62.71472902  63.92925394\n",
      "  65.17564056  66.45183588  67.75581855  69.0856036   70.43924647\n",
      "  71.81484639  73.21054921  74.62454968  76.05509316  77.50047712\n",
      "  78.95905209  80.42922235  81.90944631  83.39823671  84.89416046\n",
      "  86.39583843  87.90194493  89.41120713  90.92240438  92.43436734\n",
      "  93.94597704  95.45616387  96.96390654  98.46823093  99.96820903\n",
      " 101.46295754 102.95163678 104.43344953 105.9076396  107.37349066\n",
      " 108.83032512 110.2775026  111.71441899 113.14050498 114.55522507\n",
      " 115.95807616 117.34858657 118.72631473 120.09084825 121.44180258\n",
      " 122.77882002 124.10156884 125.40974198 126.70305625 127.98125124\n",
      " 129.24408843 130.49135038 131.72283952 132.93837769 134.13780501\n",
      " 135.32097922 136.48777483 137.63808241 138.77180781 139.88887151\n",
      " 140.98920792 142.0727647  143.13950215 144.18939258 145.22241979\n",
      " 146.23857836 147.23787331 148.22031935 149.18594059 150.13476989\n",
      " 151.06684849 151.98222548 152.88095752 153.76310822 154.62874793\n",
      " 155.4779532  156.31080661 157.12739623 157.92781534 158.71216222\n",
      " 159.48053969 160.23305483 160.96981888 161.69094675 162.39655677\n",
      " 163.0867707  163.76171317 164.42151166 165.06629618 165.69619909\n",
      " 166.31135503 166.9119005  167.49797379 168.06971489 168.62726523\n",
      " 169.1707675  169.70036561 170.21620445 170.71842974 171.2071881\n",
      " 171.68262664 172.144893   172.5941353  173.03050189 173.45414128\n",
      " 173.86520226 174.26383338 174.65018334 175.02440056 175.38663329\n",
      " 175.73702942 176.07573649 176.4029017  176.7186716  177.0231923\n",
      " 177.31660926 177.59906725 177.87071039 178.13168206 178.38212478\n",
      " 178.62218025 178.85198933 179.07169201 179.28142721 179.48133302\n",
      " 179.67154646 179.85220356 180.02343927 180.18538749 180.33818102]\n"
     ]
    }
   ],
   "source": [
    "size = 200\n",
    "A_k = gen_hilbert(size)\n",
    "F_k = A_k @ np.arange(1, A_k.shape[0] + 1).T\n",
    "print(seidel(A_k, F_k, 0.01))\n"
   ]
  },
  {
   "attachments": {},
   "cell_type": "markdown",
   "metadata": {},
   "source": [
    "\n",
    "## Deprecated\n"
   ]
  },
  {
   "cell_type": "code",
   "execution_count": 245,
   "metadata": {},
   "outputs": [],
   "source": [
    "def seidel_dep(A, b, eps, x=None):\n",
    "    L_inv = sparse.linalg.inv(sparse.tril(A))\n",
    "    U = sparse.triu(A, 1)\n",
    "    if x is None:\n",
    "        x = sparse.csr_array(b.shape)\n",
    "\n",
    "    while sparse.linalg.norm(A @ x - b) > eps:\n",
    "        x = L_inv @ (b - U @ x)\n",
    "        print(x.toarray())\n",
    "    return x"
   ]
  },
  {
   "cell_type": "code",
   "execution_count": 243,
   "metadata": {},
   "outputs": [],
   "source": [
    "def gen_hilbert_dep(n):\n",
    "    a = sparse.lil_array((n, n))\n",
    "    for i in range(n):\n",
    "        for j in range(n):\n",
    "            a[i, j] = 1 / (i + j + 1)\n",
    "    return a.tocsr()"
   ]
  },
  {
   "cell_type": "code",
   "execution_count": 242,
   "metadata": {},
   "outputs": [],
   "source": [
    "def gen_matrix_dep(n, k):\n",
    "    a = sparse.lil_array((n, n))\n",
    "    pos_ij = [0, -1, -2, -3, -4]\n",
    "    for i in range(n):\n",
    "        for j in range(n):\n",
    "            if i == j: continue\n",
    "            a[i, j] = choice(pos_ij)\n",
    "        a[i, i] = -a.sum(axis=1)[i] if i > 0 else -a.sum(axis=1)[i] + 10**(-k)\n",
    "    return a.tocsr()"
   ]
  },
  {
   "cell_type": "code",
   "execution_count": 244,
   "metadata": {},
   "outputs": [],
   "source": [
    "A_k = gen_matrix_dep(10, 0.0001)\n",
    "F_k = A_k @ sparse.csr_array(np.arange(1, A_k.shape[0] + 1)).transpose()\n",
    "#seidel_dep(A_k, F_k, 0.001)"
   ]
  },
  {
   "cell_type": "code",
   "execution_count": null,
   "metadata": {},
   "outputs": [],
   "source": [
    "A = sparse.csr_array(np.array(np.mat('16 3; 7 -11')))\n",
    "b = sparse.csr_array(np.array([11, 13])).transpose()\n",
    "\n",
    "seidel_dep(A, b, 0.000001).toarray()"
   ]
  }
 ],
 "metadata": {
  "kernelspec": {
   "display_name": "python3_10",
   "language": "python",
   "name": "python3"
  },
  "language_info": {
   "codemirror_mode": {
    "name": "ipython",
    "version": 3
   },
   "file_extension": ".py",
   "mimetype": "text/x-python",
   "name": "python",
   "nbconvert_exporter": "python",
   "pygments_lexer": "ipython3",
   "version": "3.10.11"
  },
  "orig_nbformat": 4
 },
 "nbformat": 4,
 "nbformat_minor": 2
}
