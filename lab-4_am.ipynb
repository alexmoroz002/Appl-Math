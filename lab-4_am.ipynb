{
 "cells": [
  {
   "cell_type": "code",
   "execution_count": 2,
   "metadata": {},
   "outputs": [],
   "source": [
    "import matplotlib as mlt\n",
    "import matplotlib.pyplot as plt\n",
    "import numpy as np\n",
    "import pandas as pd\n",
    "import scipy.sparse as sparse\n",
    "from random import choice"
   ]
  },
  {
   "attachments": {},
   "cell_type": "markdown",
   "metadata": {},
   "source": [
    "\n",
    "### Итерационный метод Гаусса-Зейделя\n"
   ]
  },
  {
   "cell_type": "code",
   "execution_count": 3,
   "metadata": {},
   "outputs": [],
   "source": [
    "def seidel(A, b, eps, x=None):\n",
    "    L_inv = np.linalg.inv(np.tril(A))\n",
    "    U = np.triu(A, 1)\n",
    "    if x is None:\n",
    "        x = np.zeros(b.shape[0])\n",
    "\n",
    "    while np.linalg.norm(A @ x - b) > eps:\n",
    "        x = L_inv @ (b - U @ x)\n",
    "    return x"
   ]
  },
  {
   "attachments": {},
   "cell_type": "markdown",
   "metadata": {},
   "source": [
    "\n",
    "### Генератор матриц с диагональным преобладанием\n"
   ]
  },
  {
   "cell_type": "code",
   "execution_count": 4,
   "metadata": {},
   "outputs": [],
   "source": [
    "def gen_matrix(n, k):\n",
    "    a = np.zeros((n, n))\n",
    "    pos_ij = [0, -1, -2, -3, -4]\n",
    "    for i in range(n):\n",
    "        for j in range(n):\n",
    "            if i == j: continue\n",
    "            a[i, j] = choice(pos_ij)\n",
    "        a[i, i] = -np.sum(a[i]) if i > 0 else -np.sum(a[i]) + 10**(-k)\n",
    "    return a"
   ]
  },
  {
   "attachments": {},
   "cell_type": "markdown",
   "metadata": {},
   "source": [
    "\n",
    "### Генератор матриц Гильберта\n"
   ]
  },
  {
   "cell_type": "code",
   "execution_count": 5,
   "metadata": {},
   "outputs": [],
   "source": [
    "def gen_hilbert(n):\n",
    "    a = np.zeros((n, n))\n",
    "    for i in range(n):\n",
    "        for j in range(n):\n",
    "            a[i, j] = 1 / (i + j + 1)\n",
    "    return a, a"
   ]
  },
  {
   "attachments": {},
   "cell_type": "markdown",
   "metadata": {},
   "source": [
    "\n",
    "### Тест\n"
   ]
  },
  {
   "cell_type": "code",
   "execution_count": 6,
   "metadata": {},
   "outputs": [
    {
     "data": {
      "text/plain": [
       "array([ 0.81218278, -0.66497459])"
      ]
     },
     "execution_count": 6,
     "metadata": {},
     "output_type": "execute_result"
    }
   ],
   "source": [
    "A = np.array(np.mat('16 3; 7 -11'))\n",
    "b = np.array([11, 13]).T\n",
    "\n",
    "seidel(A, b, 0.000001)"
   ]
  },
  {
   "cell_type": "code",
   "execution_count": 8,
   "metadata": {},
   "outputs": [
    {
     "name": "stdout",
     "output_type": "stream",
     "text": [
      "[0.99779704 1.9976454  2.99764617 3.99766892 4.99766508 5.99766806\n",
      " 6.99766898 7.99769239 8.99770585 9.99767604]\n"
     ]
    }
   ],
   "source": [
    "size = 10\n",
    "A_k = gen_matrix(size, 0.0001)\n",
    "F_k = A_k @ np.arange(1, A_k.shape[0] + 1).T\n",
    "try:\n",
    "    print(seidel(A_k, F_k, 0.001))\n",
    "except np.linalg.LinAlgError:\n",
    "    print('Singular!')"
   ]
  },
  {
   "attachments": {},
   "cell_type": "markdown",
   "metadata": {},
   "source": [
    "\n",
    "### Deprecated\n"
   ]
  },
  {
   "cell_type": "markdown",
   "metadata": {},
   "source": [
    "\n",
    "Попытка сделать на разреженных csr матрицах\n"
   ]
  },
  {
   "cell_type": "markdown",
   "metadata": {},
   "source": [
    "def seidel_dep(A, b, eps, x=None):\n",
    "    L_inv = sparse.linalg.inv(sparse.tril(A))\n",
    "    U = sparse.triu(A, 1)\n",
    "    if x is None:\n",
    "        x = sparse.csr_array(b.shape)\n",
    "\n",
    "    while sparse.linalg.norm(A @ x - b) > eps:\n",
    "        x = L_inv @ (b - U @ x)\n",
    "        print(x.toarray())\n",
    "    return x"
   ]
  },
  {
   "cell_type": "markdown",
   "metadata": {},
   "source": [
    "def gen_hilbert_dep(n):\n",
    "    a = sparse.lil_array((n, n))\n",
    "    for i in range(n):\n",
    "        for j in range(n):\n",
    "            a[i, j] = 1 / (i + j + 1)\n",
    "    return a.tocsr()"
   ]
  },
  {
   "cell_type": "markdown",
   "metadata": {},
   "source": [
    "def gen_matrix_dep(n, k):\n",
    "    a = sparse.lil_array((n, n))\n",
    "    pos_ij = [0, -1, -2, -3, -4]\n",
    "    for i in range(n):\n",
    "        for j in range(n):\n",
    "            if i == j: continue\n",
    "            a[i, j] = choice(pos_ij)\n",
    "        a[i, i] = -a.sum(axis=1)[i] if i > 0 else -a.sum(axis=1)[i] + 10**(-k)\n",
    "    return a.tocsr()"
   ]
  },
  {
   "cell_type": "markdown",
   "metadata": {},
   "source": [
    "A_k = gen_matrix_dep(10, 0.0001)\n",
    "F_k = A_k @ sparse.csr_array(np.arange(1, A_k.shape[0] + 1)).transpose()\n",
    "#seidel_dep(A_k, F_k, 0.001)"
   ]
  },
  {
   "cell_type": "markdown",
   "metadata": {},
   "source": [
    "A = sparse.csr_array(np.array(np.mat('16 3; 7 -11')))\n",
    "b = sparse.csr_array(np.array([11, 13])).transpose()\n",
    "\n",
    "seidel_dep(A, b, 0.000001).toarray()"
   ]
  }
 ],
 "metadata": {
  "kernelspec": {
   "display_name": "python3_10",
   "language": "python",
   "name": "python3"
  },
  "language_info": {
   "codemirror_mode": {
    "name": "ipython",
    "version": 3
   },
   "file_extension": ".py",
   "mimetype": "text/x-python",
   "name": "python",
   "nbconvert_exporter": "python",
   "pygments_lexer": "ipython3",
   "version": "3.10.11"
  },
  "orig_nbformat": 4
 },
 "nbformat": 4,
 "nbformat_minor": 2
}
