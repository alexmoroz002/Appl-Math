{
 "cells": [
  {
   "cell_type": "code",
   "execution_count": 56,
   "metadata": {},
   "outputs": [],
   "source": [
    "import matplotlib as mlt\n",
    "import matplotlib.pyplot as plt\n",
    "import numpy as np\n",
    "import pandas as pd\n",
    "import scipy.sparse as sparse\n",
    "from random import choice"
   ]
  },
  {
   "cell_type": "code",
   "execution_count": 50,
   "metadata": {},
   "outputs": [],
   "source": [
    "def seidel(A, b, eps, x=None):\n",
    "    L_inv = np.linalg.inv(np.tril(A))\n",
    "    U = np.triu(A, 1)\n",
    "\n",
    "    if x is None:\n",
    "        x = np.zeros(b.shape[0])\n",
    "\n",
    "    while np.linalg.norm(A @ x - b) > eps:\n",
    "        x = L_inv @ (b - U @ x)\n",
    "    return x"
   ]
  },
  {
   "cell_type": "code",
   "execution_count": 68,
   "metadata": {},
   "outputs": [],
   "source": [
    "def gen_hilbert(n):\n",
    "    a = sparse.lil_array((n, n))\n",
    "    for i in range(n):\n",
    "        for j in range(n):\n",
    "            a[i, j] = 1 / (i + j + 1)\n",
    "    return a.tocsr()"
   ]
  },
  {
   "cell_type": "code",
   "execution_count": 74,
   "metadata": {},
   "outputs": [],
   "source": [
    "def gen_matrix(n, k):\n",
    "    a = np.zeros((n, n))\n",
    "    pos_ij = [0, -1, -2, -3, -4]\n",
    "    for i in range(n):\n",
    "        for j in range(n):\n",
    "            if i == j: continue\n",
    "            a[i, j] = choice(pos_ij)\n",
    "        a[i, i] = -sum(a[i]) if i > 0 else -sum(a[i]) + 10**(-k)\n",
    "    return a"
   ]
  },
  {
   "cell_type": "code",
   "execution_count": 6,
   "metadata": {},
   "outputs": [
    {
     "name": "stdout",
     "output_type": "stream",
     "text": [
      "0.6875 -0.7443181818181819\n",
      "0.8270596590909092 -0.6555074896694215\n",
      "0.8104076543130165 -0.6661042199826259\n",
      "0.8123945412467424 -0.6648398373884368\n",
      "0.8121574695103319 -0.664990701220698\n",
      "0.8121857564788809 -0.6649727004225304\n",
      "0.8121823813292245 -0.664974848245039\n",
      "0.8121827840459448 -0.6649745919707625\n"
     ]
    },
    {
     "data": {
      "text/plain": [
       "array([ 0.81218278, -0.66497459])"
      ]
     },
     "execution_count": 6,
     "metadata": {},
     "output_type": "execute_result"
    }
   ],
   "source": [
    "A = np.array(np.mat('16 3; 7 -11'))\n",
    "b = np.array([11, 13]).T\n",
    "\n",
    "seidel(A, b, 0.000001)"
   ]
  },
  {
   "cell_type": "code",
   "execution_count": null,
   "metadata": {},
   "outputs": [],
   "source": [
    "A_k = gen_matrix(10000, 0.0001)\n",
    "F_k = A_k @ np.arange(1, A_k.shape[0] + 1).T\n",
    "if np.linalg.matrix_rank(A_k) == 300:\n",
    "    print(np.linalg.norm(A_k) * np.linalg.norm(np.linalg.inv(A_k)))\n",
    "    print(seidel(A_k, F_k, 0.00001))\n",
    "else:\n",
    "    print('Singular!')"
   ]
  },
  {
   "cell_type": "code",
   "execution_count": 76,
   "metadata": {},
   "outputs": [
    {
     "data": {
      "text/plain": [
       "array([[ 2.0421e+03,  0.0000e+00, -1.0000e+00, ..., -2.0000e+00,\n",
       "        -1.0000e+00, -4.0000e+00],\n",
       "       [-4.0000e+00,  2.0180e+03, -3.0000e+00, ..., -2.0000e+00,\n",
       "        -1.0000e+00, -4.0000e+00],\n",
       "       [-3.0000e+00, -3.0000e+00,  2.0300e+03, ..., -2.0000e+00,\n",
       "         0.0000e+00,  0.0000e+00],\n",
       "       ...,\n",
       "       [-4.0000e+00,  0.0000e+00,  0.0000e+00, ...,  1.9330e+03,\n",
       "        -4.0000e+00, -2.0000e+00],\n",
       "       [ 0.0000e+00, -4.0000e+00, -4.0000e+00, ..., -2.0000e+00,\n",
       "         1.8800e+03, -4.0000e+00],\n",
       "       [-4.0000e+00,  0.0000e+00, -2.0000e+00, ..., -2.0000e+00,\n",
       "        -3.0000e+00,  1.9430e+03]])"
      ]
     },
     "execution_count": 76,
     "metadata": {},
     "output_type": "execute_result"
    }
   ],
   "source": [
    "gen_matrix(1000, 1)"
   ]
  }
 ],
 "metadata": {
  "kernelspec": {
   "display_name": "python3_10",
   "language": "python",
   "name": "python3"
  },
  "language_info": {
   "codemirror_mode": {
    "name": "ipython",
    "version": 3
   },
   "file_extension": ".py",
   "mimetype": "text/x-python",
   "name": "python",
   "nbconvert_exporter": "python",
   "pygments_lexer": "ipython3",
   "version": "3.10.11"
  },
  "orig_nbformat": 4
 },
 "nbformat": 4,
 "nbformat_minor": 2
}
