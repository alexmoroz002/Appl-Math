{
 "cells": [
  {
   "cell_type": "code",
   "execution_count": 234,
   "metadata": {},
   "outputs": [],
   "source": [
    "import json\n",
    "import numpy as np\n",
    "import pandas as pd"
   ]
  },
  {
   "cell_type": "code",
   "execution_count": 235,
   "metadata": {},
   "outputs": [
    {
     "data": {
      "text/plain": [
       "(array([ 0,  0,  0, -1,  1]),\n",
       " array([[ 1.,  0.,  0.,  1., -2.],\n",
       "        [ 0.,  1.,  0., -2.,  1.],\n",
       "        [ 0.,  0.,  1.,  3.,  1.]]),\n",
       " array([1., 2., 3.]))"
      ]
     },
     "execution_count": 235,
     "metadata": {},
     "output_type": "execute_result"
    }
   ],
   "source": [
    "with open('test.json') as file:\n",
    "    data = json.load(file)\n",
    "\n",
    "match data['goal']:\n",
    "    case 'min':\n",
    "        f = -1 * np.array(data['f'])\n",
    "    case 'max':\n",
    "        f = np.array(data['f'])\n",
    "\n",
    "n = len(data['constraints'][0]['coefs'])\n",
    "m = len(data['constraints'])\n",
    "A = np.zeros((0, n))\n",
    "b = np.empty((0, 1))\n",
    "for constraint in data['constraints']:\n",
    "    coefs = np.array(constraint['coefs'])\n",
    "    match constraint['type']:\n",
    "        case 'eq':\n",
    "            if len(coefs) != A.shape[1]:\n",
    "                coefs = np.pad(coefs, (0, A.shape[1] - len(coefs)), 'constant', constant_values=0)\n",
    "            A = np.vstack([A, coefs])\n",
    "            b = np.append(b, constraint['b'])\n",
    "        case 'lte':\n",
    "            if len(coefs) != A.shape[1]:\n",
    "                coefs = np.pad(coefs, (0, A.shape[1] - len(coefs)), 'constant', constant_values=0)\n",
    "            coefs = np.append(coefs, 1)\n",
    "            A = np.hstack([A, np.zeros((A.shape[0], 1))])\n",
    "            A = np.vstack([A, coefs])\n",
    "            b = np.append(b, constraint['b'])\n",
    "        case 'gte':\n",
    "            if len(coefs) != A.shape[1]:\n",
    "                coefs = np.pad(coefs, (0, A.shape[1] - len(coefs)), 'constant', constant_values=0)\n",
    "            coefs = np.append(coefs, -1)\n",
    "            A = np.hstack([A, np.zeros((A.shape[0], 1))])\n",
    "            A = np.vstack([A, coefs])\n",
    "            b = np.append(b, constraint['b'])\n",
    "f = np.pad(f, (0, A.shape[1] - len(f)), 'constant', constant_values=0) if A.shape[1] > len(f) else f\n",
    "f, A, b"
   ]
  },
  {
   "cell_type": "code",
   "execution_count": 236,
   "metadata": {},
   "outputs": [],
   "source": [
    "A_ = np.array([[-1, 1, 1, 2, 1],\n",
    "             [1, 0, 0, 1, -5],\n",
    "             [0, 1, 0, 5, 1]])\n",
    "\n",
    "b_ = np.array([2, 4, 4])\n",
    "\n",
    "c_ = np.array([1, 1, 0, 0, 0])"
   ]
  },
  {
   "cell_type": "code",
   "execution_count": 237,
   "metadata": {},
   "outputs": [],
   "source": [
    "def to_tableau(c, A, b):\n",
    "    xb = np.hstack((A, b.reshape(b.shape[0], 1)))\n",
    "    z = np.append(c, [0])\n",
    "    return np.vstack((xb, z))\n",
    "\n",
    "def can_be_improved(tableau):\n",
    "    z = tableau[-1]\n",
    "    return any(x > 0 for x in z[:-1])\n",
    "\n",
    "import math\n",
    "\n",
    "def get_pivot_position(tableau):\n",
    "    z = tableau[-1]\n",
    "    #column = next(i for i, x in enumerate(z[:-1]) if x > 0)\n",
    "    column = np.argmax(z[:-1])\n",
    "\n",
    "    restrictions = []\n",
    "    for eq in tableau[:-1]:\n",
    "        el = eq[column]\n",
    "        restrictions.append(math.inf if el <= 0 else eq[-1] / el)\n",
    "    \n",
    "    if (all([r == math.inf for r in restrictions])):\n",
    "        raise Exception(\"Linear program is unbounded.\")\n",
    "\n",
    "    row = restrictions.index(min(restrictions))\n",
    "    return row, column\n",
    "\n",
    "def pivot_step(tableau, pivot_position):\n",
    "    new_tableau = [[] for eq in tableau]\n",
    "\n",
    "    i, j = pivot_position\n",
    "    pivot_value = tableau[i][j]\n",
    "    new_tableau[i] = np.array(tableau[i]) / pivot_value\n",
    "\n",
    "    for eq_i, eq in enumerate(tableau):\n",
    "        if eq_i != i:\n",
    "            multiplier = np.array(new_tableau[i]) * tableau[eq_i][j]\n",
    "            new_tableau[eq_i] = np.array(tableau[eq_i]) - multiplier\n",
    "\n",
    "    return new_tableau\n",
    "\n",
    "def is_basic(column):\n",
    "    return sum(column) == 1 and len([c for c in column if c == 0]) == len(column) - 1\n",
    "\n",
    "def get_solution(tableau):\n",
    "    columns = np.array(tableau).T\n",
    "    solutions = []\n",
    "    for column in columns[:-1]:\n",
    "        solution = 0\n",
    "        if is_basic(column):\n",
    "            one_index = column.tolist().index(1)\n",
    "            solution = columns[-1][one_index]\n",
    "        solutions.append(solution)\n",
    "\n",
    "    return solutions\n",
    "\n",
    "def simplex(c, A, b):\n",
    "    tableau = to_tableau(c, A, b)\n",
    "    print(pd.DataFrame(tableau), '\\n')\n",
    "    while can_be_improved(tableau):\n",
    "        pivot_position = get_pivot_position(tableau)\n",
    "        tableau = pivot_step(tableau, pivot_position)\n",
    "        print(pd.DataFrame(tableau), '\\n')\n",
    "    return get_solution(tableau)\n",
    "\n",
    "def simplex_inner(tableau):\n",
    "    print(pd.DataFrame(tableau), '\\n')\n",
    "    while can_be_improved(tableau):\n",
    "        pivot_position = get_pivot_position(tableau)\n",
    "        tableau = pivot_step(tableau, pivot_position)\n",
    "        print(pd.DataFrame(tableau), '\\n')\n",
    "    return tableau"
   ]
  },
  {
   "cell_type": "code",
   "execution_count": 238,
   "metadata": {},
   "outputs": [
    {
     "name": "stdout",
     "output_type": "stream",
     "text": [
      "     0    1    2    3    4    5\n",
      "0  1.0  0.0  0.0  1.0 -2.0  1.0\n",
      "1  0.0  1.0  0.0 -2.0  1.0  2.0\n",
      "2  0.0  0.0  1.0  3.0  1.0  3.0\n",
      "3  0.0  0.0  0.0 -1.0  1.0  0.0 \n",
      "\n",
      "     0    1    2    3    4    5\n",
      "0  1.0  2.0  0.0 -3.0  0.0  5.0\n",
      "1  0.0  1.0  0.0 -2.0  1.0  2.0\n",
      "2  0.0 -1.0  1.0  5.0  0.0  1.0\n",
      "3  0.0 -1.0  0.0  1.0  0.0 -2.0 \n",
      "\n",
      "     0    1    2    3    4    5\n",
      "0  1.0  1.4  0.6  0.0  0.0  5.6\n",
      "1  0.0  0.6  0.4  0.0  1.0  2.4\n",
      "2  0.0 -0.2  0.2  1.0  0.0  0.2\n",
      "3  0.0 -0.8 -0.2  0.0  0.0 -2.2 \n",
      "\n"
     ]
    },
    {
     "data": {
      "text/plain": [
       "[5.6, 0, 0, 0.2, 2.4]"
      ]
     },
     "execution_count": 238,
     "metadata": {},
     "output_type": "execute_result"
    }
   ],
   "source": [
    "simplex(f, A, b)"
   ]
  },
  {
   "cell_type": "code",
   "execution_count": 239,
   "metadata": {},
   "outputs": [
    {
     "name": "stdout",
     "output_type": "stream",
     "text": [
      "   0  1  2  3  4  5\n",
      "0 -1  1  1  2  1  2\n",
      "1  1  0  0  1 -5  4\n",
      "2  0  1  0  5  1  4\n",
      "3  1  1  0  0  0  0 \n",
      "\n",
      "     0    1    2    3    4    5\n",
      "0  0.0  1.0  1.0  3.0 -4.0  6.0\n",
      "1  1.0  0.0  0.0  1.0 -5.0  4.0\n",
      "2  0.0  1.0  0.0  5.0  1.0  4.0\n",
      "3  0.0  1.0  0.0 -1.0  5.0 -4.0 \n",
      "\n",
      "     0    1    2     3    4     5\n",
      "0  0.0  5.0  1.0  23.0  0.0  22.0\n",
      "1  1.0  5.0  0.0  26.0  0.0  24.0\n",
      "2  0.0  1.0  0.0   5.0  1.0   4.0\n",
      "3  0.0 -4.0  0.0 -26.0  0.0 -24.0 \n",
      "\n"
     ]
    },
    {
     "data": {
      "text/plain": [
       "[24.0, 0, 22.0, 0, 4.0]"
      ]
     },
     "execution_count": 239,
     "metadata": {},
     "output_type": "execute_result"
    }
   ],
   "source": [
    "simplex(c_, A_, b_)"
   ]
  },
  {
   "cell_type": "code",
   "execution_count": 240,
   "metadata": {},
   "outputs": [],
   "source": [
    "def count_basic(columns):\n",
    "    i = 0\n",
    "    for col in columns:\n",
    "        if is_basic(col):\n",
    "            i += 1\n",
    "    return i"
   ]
  },
  {
   "cell_type": "code",
   "execution_count": 241,
   "metadata": {},
   "outputs": [],
   "source": [
    "tableau = to_tableau(f, A, b)\n",
    "cols = np.array(tableau)[:-1].T[:-1]\n",
    "if (cols.shape[1] != count_basic(cols)):\n",
    "    print(1)"
   ]
  },
  {
   "cell_type": "code",
   "execution_count": 242,
   "metadata": {},
   "outputs": [
    {
     "name": "stdout",
     "output_type": "stream",
     "text": [
      "[[-1  1  1  2  1  2]\n",
      " [ 1  0  0  1 -5  4]\n",
      " [ 0  1  0  5  1  4]\n",
      " [ 1  1  0  0  0  0]]\n"
     ]
    }
   ],
   "source": [
    "tableau = to_tableau(c_, A_, b_)\n",
    "cols = np.array(tableau)[:-1].T[:-1]\n",
    "if (cols.shape[1] != count_basic(cols)):\n",
    "    print(tableau)"
   ]
  },
  {
   "cell_type": "code",
   "execution_count": 243,
   "metadata": {},
   "outputs": [],
   "source": [
    "def get_nonbasic_rows(tableau):\n",
    "    cols = np.array(tableau)[:-1].T[:-1]\n",
    "    res = set()\n",
    "    for col in cols:\n",
    "        if is_basic(col):\n",
    "            res.update(np.nonzero(col)[0])\n",
    "    return list(set(range(cols.shape[1])) ^ res)"
   ]
  },
  {
   "cell_type": "code",
   "execution_count": 244,
   "metadata": {},
   "outputs": [],
   "source": [
    "def get_row(tableau, col_index):\n",
    "    col = tableau[:, col_index]\n",
    "    if is_basic(col):\n",
    "        res = tableau[np.nonzero(col)[0]].ravel()\n",
    "        res[col_index] = 0\n",
    "        return -1 * res\n",
    "    res = np.zeros(shape=tableau.shape[1])\n",
    "    res[col_index] = 1\n",
    "    return res"
   ]
  },
  {
   "cell_type": "code",
   "execution_count": 245,
   "metadata": {},
   "outputs": [],
   "source": [
    "def find_start_plane(tableau):\n",
    "    func = tableau[-1, :-1].copy()\n",
    "    bad_rows = get_nonbasic_rows(tableau)\n",
    "    tableau[-1] = np.sum([tableau[i] for i in bad_rows], axis=0)\n",
    "    bad_cols = []\n",
    "    for i in bad_rows:\n",
    "        new_var = np.zeros(shape=(tableau.shape[0], 1))\n",
    "        new_var[i] = 1\n",
    "        bad_cols.append(tableau.shape[1] - 1)\n",
    "        tableau = np.hstack((tableau[:, :-1], new_var, tableau[:, -1:]))\n",
    "    \n",
    "    t = np.round(simplex_inner(tableau), 6)\n",
    "    t = np.delete(t, bad_cols, axis=1)\n",
    "    print(get_solution(t))\n",
    "    print(func)\n",
    "    new_func = np.zeros(shape=t.shape[1])\n",
    "    for i in np.nonzero(func)[0]:\n",
    "        new_func += func[i] * get_row(t, i)\n",
    "    t[-1] = new_func\n",
    "    return t"
   ]
  },
  {
   "cell_type": "code",
   "execution_count": 246,
   "metadata": {},
   "outputs": [
    {
     "name": "stdout",
     "output_type": "stream",
     "text": [
      "     0    1    2    3    4    5    6    7\n",
      "0 -1.0  1.0  1.0  2.0  1.0  0.0  0.0  2.0\n",
      "1  1.0  0.0  0.0  1.0 -5.0  1.0  0.0  4.0\n",
      "2  0.0  1.0  0.0  5.0  1.0  0.0  1.0  4.0\n",
      "3  1.0  1.0  0.0  6.0 -4.0  0.0  0.0  8.0 \n",
      "\n",
      "     0    1    2    3    4    5    6    7\n",
      "0 -1.0  0.6  1.0  0.0  0.6  0.0 -0.4  0.4\n",
      "1  1.0 -0.2  0.0  0.0 -5.2  1.0 -0.2  3.2\n",
      "2  0.0  0.2  0.0  1.0  0.2  0.0  0.2  0.8\n",
      "3  1.0 -0.2  0.0  0.0 -5.2  0.0 -1.2  3.2 \n",
      "\n",
      "     0             1    2    3    4    5    6             7\n",
      "0  0.0  4.000000e-01  1.0  0.0 -4.6  1.0 -0.6  3.600000e+00\n",
      "1  1.0 -2.000000e-01  0.0  0.0 -5.2  1.0 -0.2  3.200000e+00\n",
      "2  0.0  2.000000e-01  0.0  1.0  0.2  0.0  0.2  8.000000e-01\n",
      "3  0.0 -1.665335e-16  0.0  0.0  0.0 -1.0 -1.0 -8.881784e-16 \n",
      "\n",
      "[3.2, 0, 3.6, 0.8, 0]\n",
      "[1 1 0 0 0]\n"
     ]
    },
    {
     "data": {
      "text/plain": [
       "array([[ 0. ,  0.4,  1. ,  0. , -4.6,  3.6],\n",
       "       [ 1. , -0.2,  0. ,  0. , -5.2,  3.2],\n",
       "       [ 0. ,  0.2,  0. ,  1. ,  0.2,  0.8],\n",
       "       [ 0. ,  1.2,  0. ,  0. ,  5.2, -3.2]])"
      ]
     },
     "execution_count": 246,
     "metadata": {},
     "output_type": "execute_result"
    }
   ],
   "source": [
    "tableau = to_tableau(c_, A_, b_)\n",
    "t_test = find_start_plane(tableau)\n",
    "t_test"
   ]
  },
  {
   "cell_type": "code",
   "execution_count": 247,
   "metadata": {},
   "outputs": [
    {
     "name": "stdout",
     "output_type": "stream",
     "text": [
      "     0    1    2    3    4    5\n",
      "0  0.0  0.4  1.0  0.0 -4.6  3.6\n",
      "1  1.0 -0.2  0.0  0.0 -5.2  3.2\n",
      "2  0.0  0.2  0.0  1.0  0.2  0.8\n",
      "3  0.0  1.2  0.0  0.0  5.2 -3.2 \n",
      "\n",
      "     0    1    2     3    4     5\n",
      "0  0.0  5.0  1.0  23.0  0.0  22.0\n",
      "1  1.0  5.0  0.0  26.0  0.0  24.0\n",
      "2  0.0  1.0  0.0   5.0  1.0   4.0\n",
      "3  0.0 -4.0  0.0 -26.0  0.0 -24.0 \n",
      "\n"
     ]
    },
    {
     "data": {
      "text/plain": [
       "[array([ 0.,  5.,  1., 23.,  0., 22.]),\n",
       " array([ 1.,  5.,  0., 26.,  0., 24.]),\n",
       " array([0., 1., 0., 5., 1., 4.]),\n",
       " array([  0.,  -4.,   0., -26.,   0., -24.])]"
      ]
     },
     "execution_count": 247,
     "metadata": {},
     "output_type": "execute_result"
    }
   ],
   "source": [
    "simplex_inner(t_test)"
   ]
  }
 ],
 "metadata": {
  "kernelspec": {
   "display_name": "py_311",
   "language": "python",
   "name": "python3"
  },
  "language_info": {
   "codemirror_mode": {
    "name": "ipython",
    "version": 3
   },
   "file_extension": ".py",
   "mimetype": "text/x-python",
   "name": "python",
   "nbconvert_exporter": "python",
   "pygments_lexer": "ipython3",
   "version": "3.11.5"
  },
  "orig_nbformat": 4
 },
 "nbformat": 4,
 "nbformat_minor": 2
}
