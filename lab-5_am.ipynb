{
 "cells": [
  {
   "cell_type": "code",
   "execution_count": 41,
   "metadata": {},
   "outputs": [],
   "source": [
    "import json\n",
    "import numpy as np"
   ]
  },
  {
   "cell_type": "code",
   "execution_count": 161,
   "metadata": {},
   "outputs": [
    {
     "data": {
      "text/plain": [
       "(array([2, 3, 0, 0, 0, 0]),\n",
       " array([[1., 0., 1., 0., 0., 0.],\n",
       "        [0., 1., 0., 1., 0., 0.],\n",
       "        [1., 1., 0., 0., 1., 0.],\n",
       "        [1., 2., 0., 0., 0., 1.]]),\n",
       " array([40., 30., 60., 80.]))"
      ]
     },
     "execution_count": 161,
     "metadata": {},
     "output_type": "execute_result"
    }
   ],
   "source": [
    "with open('test.json') as file:\n",
    "    data = json.load(file)\n",
    "\n",
    "match data['goal']:\n",
    "    case 'min':\n",
    "        f = -1 * np.array(data['f'])\n",
    "    case 'max':\n",
    "        f = np.array(data['f'])\n",
    "\n",
    "n = len(data['constraints'][0]['coefs'])\n",
    "m = len(data['constraints'])\n",
    "A = np.zeros((0, n))\n",
    "b = np.empty((0, 1))\n",
    "for constraint in data['constraints']:\n",
    "    coefs = np.array(constraint['coefs'])\n",
    "    match constraint['type']:\n",
    "        case 'eq':\n",
    "            if len(coefs) != A.shape[1]:\n",
    "                coefs = np.pad(coefs, (0, A.shape[1] - len(coefs)), 'constant', constant_values=0)\n",
    "            A = np.vstack([A, coefs])\n",
    "            b = np.append(b, constraint['b'])\n",
    "        case 'lte':\n",
    "            if len(coefs) != A.shape[1]:\n",
    "                coefs = np.pad(coefs, (0, A.shape[1] - len(coefs)), 'constant', constant_values=0)\n",
    "            coefs = np.append(coefs, 1)\n",
    "            A = np.hstack([A, np.zeros((A.shape[0], 1))])\n",
    "            A = np.vstack([A, coefs])\n",
    "            b = np.append(b, constraint['b'])\n",
    "        case 'gte':\n",
    "            if len(coefs) != A.shape[1]:\n",
    "                coefs = np.pad(coefs, (0, A.shape[1] - len(coefs)), 'constant', constant_values=0)\n",
    "            coefs = np.append(coefs, -1)\n",
    "            A = np.hstack([A, np.zeros((A.shape[0], 1))])\n",
    "            A = np.vstack([A, coefs])\n",
    "            b = np.append(b, constraint['b'])\n",
    "f = np.pad(f, (0, A.shape[1] - len(f)), 'constant', constant_values=0) if A.shape[1] > len(f) else f\n",
    "f, A, b"
   ]
  },
  {
   "cell_type": "code",
   "execution_count": 147,
   "metadata": {},
   "outputs": [],
   "source": [
    "A_ = np.array([[-2, 1, 1, 0, 0],\n",
    "             [-1, 2, 0, 1, 0],\n",
    "             [1, 0, 0, 0, 1]])\n",
    "\n",
    "b_ = np.array([2, 7, 3])\n",
    "\n",
    "c_ = np.array([-1, -2, 0, 0, 0])"
   ]
  },
  {
   "cell_type": "code",
   "execution_count": 178,
   "metadata": {},
   "outputs": [
    {
     "data": {
      "text/plain": [
       "[40.0, 20.0, 0.0, 10.0, 0, 0, 0]"
      ]
     },
     "execution_count": 178,
     "metadata": {},
     "output_type": "execute_result"
    }
   ],
   "source": [
    "\n",
    "def to_tableau(c, A, b):\n",
    "    xb = [eq + [x] for eq, x in zip(A, b)]\n",
    "    z = c + [0]\n",
    "    return xb + [z]\n",
    "\n",
    "def can_be_improved(tableau):\n",
    "    z = tableau[-1]\n",
    "    return any(x > 0 for x in z[:-1])\n",
    "\n",
    "import math\n",
    "\n",
    "def get_pivot_position(tableau):\n",
    "    z = tableau[-1]\n",
    "    column = next(i for i, x in enumerate(z[:-1]) if x > 0)\n",
    "    \n",
    "    restrictions = []\n",
    "    for eq in tableau[:-1]:\n",
    "        el = eq[column]\n",
    "        restrictions.append(math.inf if el <= 0 else eq[-1] / el)\n",
    "\n",
    "    row = restrictions.index(min(restrictions))\n",
    "    return row, column\n",
    "\n",
    "def pivot_step(tableau, pivot_position):\n",
    "    new_tableau = [[] for eq in tableau]\n",
    "    \n",
    "    i, j = pivot_position\n",
    "    pivot_value = tableau[i][j]\n",
    "    new_tableau[i] = np.array(tableau[i]) / pivot_value\n",
    "    \n",
    "    for eq_i, eq in enumerate(tableau):\n",
    "        if eq_i != i:\n",
    "            multiplier = np.array(new_tableau[i]) * tableau[eq_i][j]\n",
    "            new_tableau[eq_i] = np.array(tableau[eq_i]) - multiplier\n",
    "   \n",
    "    return new_tableau\n",
    "\n",
    "def is_basic(column):\n",
    "    return sum(column) == 1 and len([c for c in column if c == 0]) == len(column) - 1\n",
    "\n",
    "def get_solution(tableau):\n",
    "    columns = np.array(tableau).T\n",
    "    solutions = []\n",
    "    for column in columns:\n",
    "        solution = 0\n",
    "        if is_basic(column):\n",
    "            one_index = column.tolist().index(1)\n",
    "            solution = columns[-1][one_index]\n",
    "        solutions.append(solution)\n",
    "        \n",
    "    return solutions\n",
    "\n",
    "def simplex(c, A, b):\n",
    "    tableau = to_tableau(c, A, b)\n",
    "\n",
    "    while can_be_improved(tableau):\n",
    "        pivot_position = get_pivot_position(tableau)\n",
    "        tableau = pivot_step(tableau, pivot_position)\n",
    "\n",
    "    return get_solution(tableau)\n",
    "\n",
    "solution = simplex(f.tolist(), A.tolist(), b)\n",
    "solution"
   ]
  }
 ],
 "metadata": {
  "kernelspec": {
   "display_name": "py_311",
   "language": "python",
   "name": "python3"
  },
  "language_info": {
   "codemirror_mode": {
    "name": "ipython",
    "version": 3
   },
   "file_extension": ".py",
   "mimetype": "text/x-python",
   "name": "python",
   "nbconvert_exporter": "python",
   "pygments_lexer": "ipython3",
   "version": "3.11.5"
  },
  "orig_nbformat": 4
 },
 "nbformat": 4,
 "nbformat_minor": 2
}
